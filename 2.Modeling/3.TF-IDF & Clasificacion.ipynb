{
 "cells": [
  {
   "cell_type": "code",
   "execution_count": 1,
   "metadata": {},
   "outputs": [],
   "source": [
    "##Liberias\n",
    "\n",
    "# Generales\n",
    "import pandas as pd\n",
    "import numpy as np\n",
    "import warnings\n",
    "warnings.filterwarnings(\"ignore\")\n",
    "import glob\n",
    "\n",
    "# limpieza y stopwords\n",
    "import re\n",
    "from nltk.corpus import stopwords\n",
    "\n",
    "# TF-IDF\n",
    "from sklearn.feature_extraction.text import TfidfVectorizer"
   ]
  },
  {
   "cell_type": "markdown",
   "metadata": {},
   "source": [
    "## 1. Datos"
   ]
  },
  {
   "cell_type": "code",
   "execution_count": 2,
   "metadata": {
    "scrolled": true
   },
   "outputs": [
    {
     "data": {
      "text/html": [
       "<div>\n",
       "<style scoped>\n",
       "    .dataframe tbody tr th:only-of-type {\n",
       "        vertical-align: middle;\n",
       "    }\n",
       "\n",
       "    .dataframe tbody tr th {\n",
       "        vertical-align: top;\n",
       "    }\n",
       "\n",
       "    .dataframe thead th {\n",
       "        text-align: right;\n",
       "    }\n",
       "</style>\n",
       "<table border=\"1\" class=\"dataframe\">\n",
       "  <thead>\n",
       "    <tr style=\"text-align: right;\">\n",
       "      <th></th>\n",
       "      <th>Número de resolución</th>\n",
       "      <th>Criterios aplicables</th>\n",
       "      <th>Año</th>\n",
       "      <th>Categoría</th>\n",
       "      <th>Materia</th>\n",
       "      <th>Empresa denunciada</th>\n",
       "      <th>Medios probatoriosCargo</th>\n",
       "      <th>Medios probatorios Descargo</th>\n",
       "      <th>Cuestiones</th>\n",
       "      <th>Normativa sectorial aplicada</th>\n",
       "      <th>Normativa específica</th>\n",
       "      <th>Otras normas</th>\n",
       "      <th>Multas</th>\n",
       "      <th>Medidas correctivas</th>\n",
       "      <th>Configuración del Tribunal</th>\n",
       "      <th>Decisión</th>\n",
       "    </tr>\n",
       "  </thead>\n",
       "  <tbody>\n",
       "    <tr>\n",
       "      <th>0</th>\n",
       "      <td>0064-2006/TDC-INDECOPI</td>\n",
       "      <td>la responsabilidad administrativa de Transport...</td>\n",
       "      <td>2006</td>\n",
       "      <td>Pérdida de equipaje</td>\n",
       "      <td>Idoneidad del servicio</td>\n",
       "      <td>Empresa de transportes Flores Hermanos SRL</td>\n",
       "      <td>Boleta por servicio de encomienda</td>\n",
       "      <td>Denuncia policial por hurto</td>\n",
       "      <td>Competencia Fuerza mayor</td>\n",
       "      <td>Reglamento General de Ferrocarriles D. Supremo...</td>\n",
       "      <td>DECRETO LEGISLATIVO N° 807 Facultades, normas ...</td>\n",
       "      <td>Código Civil</td>\n",
       "      <td>0,50 UIT Pago de costas y costos</td>\n",
       "      <td>Pago de S/.850</td>\n",
       "      <td>Juan Francisco Rojas Leo Julio Durand Carrión ...</td>\n",
       "      <td>1</td>\n",
       "    </tr>\n",
       "    <tr>\n",
       "      <th>1</th>\n",
       "      <td>0071-2006/TDC-INDECOPI</td>\n",
       "      <td>El punto de partida para demostrar la existenc...</td>\n",
       "      <td>2006</td>\n",
       "      <td>Pérdida de equipaje</td>\n",
       "      <td>Idoneidad del servicio</td>\n",
       "      <td>Paredes Estrella Cargo SA (Estrella Cargo)</td>\n",
       "      <td>0</td>\n",
       "      <td>0</td>\n",
       "      <td>Competencia Fuerza mayor, caso fortuito</td>\n",
       "      <td>Ley General de Transporte y Tránsito Terrestre</td>\n",
       "      <td>DECRETO LEGISLATIVO N° 807 Facultades, normas ...</td>\n",
       "      <td>Código Civil Sentencia del 23 de abril de 2007...</td>\n",
       "      <td>0,5 UIT</td>\n",
       "      <td>Pago de S/.1,650</td>\n",
       "      <td>Juan Francisco Rojas Leo Julio Durand Carrión ...</td>\n",
       "      <td>1</td>\n",
       "    </tr>\n",
       "    <tr>\n",
       "      <th>2</th>\n",
       "      <td>0142-2006/TDC-INDECOPI</td>\n",
       "      <td>Para el dictado de medidas correctivas, la aus...</td>\n",
       "      <td>2006</td>\n",
       "      <td>Pérdida de equipaje</td>\n",
       "      <td>Idoneidad del servicio Gradación de la sanción</td>\n",
       "      <td>Empresa de Tranporte Santa Úrsula (Transporte ...</td>\n",
       "      <td>0</td>\n",
       "      <td>0</td>\n",
       "      <td>0</td>\n",
       "      <td>Reglamento General de Ferrocarriles D. Supremo...</td>\n",
       "      <td>Ley No. 27917 Modifica el Texto Unico Ordenado...</td>\n",
       "      <td>Código Civil</td>\n",
       "      <td>0,50 UIT</td>\n",
       "      <td>Pago de S/.850</td>\n",
       "      <td>Juan Francisco Rojas Leo Julio Durand Carrión ...</td>\n",
       "      <td>0</td>\n",
       "    </tr>\n",
       "    <tr>\n",
       "      <th>3</th>\n",
       "      <td>1335-2006/TDC-INDECOPI</td>\n",
       "      <td>la causa no imputable debe ser entendida como ...</td>\n",
       "      <td>2006</td>\n",
       "      <td>Pérdida de equipaje</td>\n",
       "      <td>Idoneidad del servicio</td>\n",
       "      <td>Empresa de Transporte El Pino SAC (El Pino)</td>\n",
       "      <td>Boleta de Venta</td>\n",
       "      <td>0</td>\n",
       "      <td>deber de custodia del equipaje</td>\n",
       "      <td>Ley de Aeronaútica Civil del Perú DECRETO LEGI...</td>\n",
       "      <td>Res. 0603-2002/TDC-INDECOPI</td>\n",
       "      <td>0</td>\n",
       "      <td>0,5 UIT Pago de costas y costos</td>\n",
       "      <td>Pago de S/. 966</td>\n",
       "      <td>Juan Francisco Rojas Leo Julio Durand Carrión ...</td>\n",
       "      <td>1</td>\n",
       "    </tr>\n",
       "    <tr>\n",
       "      <th>4</th>\n",
       "      <td>1428-2006/TDC.INDECOPI</td>\n",
       "      <td>al contratar unservicio de transporte de carga...</td>\n",
       "      <td>2006</td>\n",
       "      <td>Pérdida de equipaje</td>\n",
       "      <td>Idoneidad del servicio</td>\n",
       "      <td>Empresa de Transportes de pasajeros y carga Ca...</td>\n",
       "      <td>0</td>\n",
       "      <td>Guia Boleta de Venta No. 51285</td>\n",
       "      <td>0</td>\n",
       "      <td>D. Supremo No. 009-2004-MTC Reglamento Naciona...</td>\n",
       "      <td>DECRETO LEGISLATIVO N° 807 Facultades, normas ...</td>\n",
       "      <td>Ley No. 27444 Ley del Procedimiento Administra...</td>\n",
       "      <td>0</td>\n",
       "      <td>0</td>\n",
       "      <td>Juan Francisco Rojas Leo Julio Durand Carrión ...</td>\n",
       "      <td>0</td>\n",
       "    </tr>\n",
       "    <tr>\n",
       "      <th>...</th>\n",
       "      <td>...</td>\n",
       "      <td>...</td>\n",
       "      <td>...</td>\n",
       "      <td>...</td>\n",
       "      <td>...</td>\n",
       "      <td>...</td>\n",
       "      <td>...</td>\n",
       "      <td>...</td>\n",
       "      <td>...</td>\n",
       "      <td>...</td>\n",
       "      <td>...</td>\n",
       "      <td>...</td>\n",
       "      <td>...</td>\n",
       "      <td>...</td>\n",
       "      <td>...</td>\n",
       "      <td>...</td>\n",
       "    </tr>\n",
       "    <tr>\n",
       "      <th>240</th>\n",
       "      <td>1164-2015/SPC-INDECOPI</td>\n",
       "      <td>Como se ha desarrollado de manera clara en la ...</td>\n",
       "      <td>2015</td>\n",
       "      <td>Pérdida de equipaje</td>\n",
       "      <td>IDONEIDAD DEL SERVICIO</td>\n",
       "      <td>EMPRESA DE TRANSPORTES RONCO PERÚ S.A.C.</td>\n",
       "      <td>Boleto de Viaje N° 016939 Ticket de Equipaje N...</td>\n",
       "      <td>Denuncia policial</td>\n",
       "      <td>0</td>\n",
       "      <td>Código de Protección y Defensa del Consumidor</td>\n",
       "      <td>0</td>\n",
       "      <td>0</td>\n",
       "      <td>4 UIT</td>\n",
       "      <td>0</td>\n",
       "      <td>Julio Baltazar Durand Carrión Alejandro José R...</td>\n",
       "      <td>1</td>\n",
       "    </tr>\n",
       "    <tr>\n",
       "      <th>241</th>\n",
       "      <td>1208-2015/SPC-INDECOPI</td>\n",
       "      <td>Por consiguiente, la presunta falta de atenció...</td>\n",
       "      <td>2015</td>\n",
       "      <td>1208-2015/SPC-INDECOPI</td>\n",
       "      <td>0</td>\n",
       "      <td>EMPRESA DE TRANSPORTE TURÍSTICO OLANO S.A.</td>\n",
       "      <td>0</td>\n",
       "      <td>0</td>\n",
       "      <td>0</td>\n",
       "      <td>Código de Protección y Defensa del Consumidor</td>\n",
       "      <td>Ley No. 27444 Ley del Procedimiento Administra...</td>\n",
       "      <td>0</td>\n",
       "      <td>0</td>\n",
       "      <td>0</td>\n",
       "      <td>Julio Baltazar Durand Carrión Alejandro José R...</td>\n",
       "      <td>1</td>\n",
       "    </tr>\n",
       "    <tr>\n",
       "      <th>242</th>\n",
       "      <td>1293-2015/SPC-INDECOPI</td>\n",
       "      <td>En efecto, Transportes Yanatile alegó como sus...</td>\n",
       "      <td>2015</td>\n",
       "      <td>Pérdida de equipaje</td>\n",
       "      <td>RECURSO DE REVISIÓN</td>\n",
       "      <td>EMPRESA DE TRANSPORTES YANATILE S.R.L.</td>\n",
       "      <td>0</td>\n",
       "      <td>0</td>\n",
       "      <td>0</td>\n",
       "      <td>Código de Protección y Defensa del Consumidor</td>\n",
       "      <td>Ley No. 27444 Ley del Procedimiento Administra...</td>\n",
       "      <td>0</td>\n",
       "      <td>0</td>\n",
       "      <td>0</td>\n",
       "      <td>Julio Baltazar Durand Carrión Alejandro José R...</td>\n",
       "      <td>0</td>\n",
       "    </tr>\n",
       "    <tr>\n",
       "      <th>243</th>\n",
       "      <td>2688-2015/SPC-INDECOPI</td>\n",
       "      <td>Asimismo, la Sala comparte los fundamentos de ...</td>\n",
       "      <td>2015</td>\n",
       "      <td>Pérdida de equipaje</td>\n",
       "      <td>IDONEIDAD DEL SERVICIO TRANSPORTE TERRESTRE</td>\n",
       "      <td>EMPRESA DE TRANSPORTE TURÍSTICO OLANO S.A.</td>\n",
       "      <td>0</td>\n",
       "      <td>0</td>\n",
       "      <td>0</td>\n",
       "      <td>Código de Protección y Defensa del Consumidor</td>\n",
       "      <td>Ley No. 27444 Ley del Procedimiento Administra...</td>\n",
       "      <td>0</td>\n",
       "      <td>0</td>\n",
       "      <td>0</td>\n",
       "      <td>Julio Baltazar Durand Carrión Alejandro José R...</td>\n",
       "      <td>1</td>\n",
       "    </tr>\n",
       "    <tr>\n",
       "      <th>244</th>\n",
       "      <td>3676-2015/SPC-INDECOPI</td>\n",
       "      <td>Sobre el particular, cabe tener presente que e...</td>\n",
       "      <td>2015</td>\n",
       "      <td>Pérdida de equipaje</td>\n",
       "      <td>IDONEIDAD DEL SERVICIO</td>\n",
       "      <td>EMPRESA DE TRANSPORTES EL SOL S.A.</td>\n",
       "      <td>0</td>\n",
       "      <td>0</td>\n",
       "      <td>0</td>\n",
       "      <td>Código de Protección y Defensa del Consumidor</td>\n",
       "      <td>Ley No. 27444 Ley del Procedimiento Administra...</td>\n",
       "      <td>Código Civil</td>\n",
       "      <td>2 UIT</td>\n",
       "      <td>0</td>\n",
       "      <td>Julio Baltazar Durand Carrión Alejandro José R...</td>\n",
       "      <td>1</td>\n",
       "    </tr>\n",
       "  </tbody>\n",
       "</table>\n",
       "<p>245 rows × 16 columns</p>\n",
       "</div>"
      ],
      "text/plain": [
       "       Número de resolución  \\\n",
       "0    0064-2006/TDC-INDECOPI   \n",
       "1    0071-2006/TDC-INDECOPI   \n",
       "2    0142-2006/TDC-INDECOPI   \n",
       "3    1335-2006/TDC-INDECOPI   \n",
       "4    1428-2006/TDC.INDECOPI   \n",
       "..                      ...   \n",
       "240  1164-2015/SPC-INDECOPI   \n",
       "241  1208-2015/SPC-INDECOPI   \n",
       "242  1293-2015/SPC-INDECOPI   \n",
       "243  2688-2015/SPC-INDECOPI   \n",
       "244  3676-2015/SPC-INDECOPI   \n",
       "\n",
       "                                  Criterios aplicables   Año  \\\n",
       "0    la responsabilidad administrativa de Transport...  2006   \n",
       "1    El punto de partida para demostrar la existenc...  2006   \n",
       "2    Para el dictado de medidas correctivas, la aus...  2006   \n",
       "3    la causa no imputable debe ser entendida como ...  2006   \n",
       "4    al contratar unservicio de transporte de carga...  2006   \n",
       "..                                                 ...   ...   \n",
       "240  Como se ha desarrollado de manera clara en la ...  2015   \n",
       "241  Por consiguiente, la presunta falta de atenció...  2015   \n",
       "242  En efecto, Transportes Yanatile alegó como sus...  2015   \n",
       "243  Asimismo, la Sala comparte los fundamentos de ...  2015   \n",
       "244  Sobre el particular, cabe tener presente que e...  2015   \n",
       "\n",
       "                  Categoría                                         Materia  \\\n",
       "0       Pérdida de equipaje                          Idoneidad del servicio   \n",
       "1       Pérdida de equipaje                          Idoneidad del servicio   \n",
       "2       Pérdida de equipaje  Idoneidad del servicio Gradación de la sanción   \n",
       "3       Pérdida de equipaje                          Idoneidad del servicio   \n",
       "4       Pérdida de equipaje                          Idoneidad del servicio   \n",
       "..                      ...                                             ...   \n",
       "240     Pérdida de equipaje                          IDONEIDAD DEL SERVICIO   \n",
       "241  1208-2015/SPC-INDECOPI                                               0   \n",
       "242     Pérdida de equipaje                             RECURSO DE REVISIÓN   \n",
       "243     Pérdida de equipaje     IDONEIDAD DEL SERVICIO TRANSPORTE TERRESTRE   \n",
       "244     Pérdida de equipaje                          IDONEIDAD DEL SERVICIO   \n",
       "\n",
       "                                    Empresa denunciada  \\\n",
       "0           Empresa de transportes Flores Hermanos SRL   \n",
       "1           Paredes Estrella Cargo SA (Estrella Cargo)   \n",
       "2    Empresa de Tranporte Santa Úrsula (Transporte ...   \n",
       "3          Empresa de Transporte El Pino SAC (El Pino)   \n",
       "4    Empresa de Transportes de pasajeros y carga Ca...   \n",
       "..                                                 ...   \n",
       "240           EMPRESA DE TRANSPORTES RONCO PERÚ S.A.C.   \n",
       "241         EMPRESA DE TRANSPORTE TURÍSTICO OLANO S.A.   \n",
       "242             EMPRESA DE TRANSPORTES YANATILE S.R.L.   \n",
       "243         EMPRESA DE TRANSPORTE TURÍSTICO OLANO S.A.   \n",
       "244                 EMPRESA DE TRANSPORTES EL SOL S.A.   \n",
       "\n",
       "                               Medios probatoriosCargo  \\\n",
       "0                    Boleta por servicio de encomienda   \n",
       "1                                                    0   \n",
       "2                                                    0   \n",
       "3                                      Boleta de Venta   \n",
       "4                                                    0   \n",
       "..                                                 ...   \n",
       "240  Boleto de Viaje N° 016939 Ticket de Equipaje N...   \n",
       "241                                                  0   \n",
       "242                                                  0   \n",
       "243                                                  0   \n",
       "244                                                  0   \n",
       "\n",
       "        Medios probatorios Descargo                               Cuestiones  \\\n",
       "0       Denuncia policial por hurto                 Competencia Fuerza mayor   \n",
       "1                                 0  Competencia Fuerza mayor, caso fortuito   \n",
       "2                                 0                                        0   \n",
       "3                                 0           deber de custodia del equipaje   \n",
       "4    Guia Boleta de Venta No. 51285                                        0   \n",
       "..                              ...                                      ...   \n",
       "240               Denuncia policial                                        0   \n",
       "241                               0                                        0   \n",
       "242                               0                                        0   \n",
       "243                               0                                        0   \n",
       "244                               0                                        0   \n",
       "\n",
       "                          Normativa sectorial aplicada  \\\n",
       "0    Reglamento General de Ferrocarriles D. Supremo...   \n",
       "1       Ley General de Transporte y Tránsito Terrestre   \n",
       "2    Reglamento General de Ferrocarriles D. Supremo...   \n",
       "3    Ley de Aeronaútica Civil del Perú DECRETO LEGI...   \n",
       "4    D. Supremo No. 009-2004-MTC Reglamento Naciona...   \n",
       "..                                                 ...   \n",
       "240      Código de Protección y Defensa del Consumidor   \n",
       "241      Código de Protección y Defensa del Consumidor   \n",
       "242      Código de Protección y Defensa del Consumidor   \n",
       "243      Código de Protección y Defensa del Consumidor   \n",
       "244      Código de Protección y Defensa del Consumidor   \n",
       "\n",
       "                                  Normativa específica  \\\n",
       "0    DECRETO LEGISLATIVO N° 807 Facultades, normas ...   \n",
       "1    DECRETO LEGISLATIVO N° 807 Facultades, normas ...   \n",
       "2    Ley No. 27917 Modifica el Texto Unico Ordenado...   \n",
       "3                          Res. 0603-2002/TDC-INDECOPI   \n",
       "4    DECRETO LEGISLATIVO N° 807 Facultades, normas ...   \n",
       "..                                                 ...   \n",
       "240                                                  0   \n",
       "241  Ley No. 27444 Ley del Procedimiento Administra...   \n",
       "242  Ley No. 27444 Ley del Procedimiento Administra...   \n",
       "243  Ley No. 27444 Ley del Procedimiento Administra...   \n",
       "244  Ley No. 27444 Ley del Procedimiento Administra...   \n",
       "\n",
       "                                          Otras normas  \\\n",
       "0                                         Código Civil   \n",
       "1    Código Civil Sentencia del 23 de abril de 2007...   \n",
       "2                                         Código Civil   \n",
       "3                                                    0   \n",
       "4    Ley No. 27444 Ley del Procedimiento Administra...   \n",
       "..                                                 ...   \n",
       "240                                                  0   \n",
       "241                                                  0   \n",
       "242                                                  0   \n",
       "243                                                  0   \n",
       "244                                       Código Civil   \n",
       "\n",
       "                               Multas Medidas correctivas  \\\n",
       "0    0,50 UIT Pago de costas y costos      Pago de S/.850   \n",
       "1                             0,5 UIT    Pago de S/.1,650   \n",
       "2                            0,50 UIT      Pago de S/.850   \n",
       "3     0,5 UIT Pago de costas y costos     Pago de S/. 966   \n",
       "4                                   0                   0   \n",
       "..                                ...                 ...   \n",
       "240                             4 UIT                   0   \n",
       "241                                 0                   0   \n",
       "242                                 0                   0   \n",
       "243                                 0                   0   \n",
       "244                             2 UIT                   0   \n",
       "\n",
       "                            Configuración del Tribunal  Decisión  \n",
       "0    Juan Francisco Rojas Leo Julio Durand Carrión ...         1  \n",
       "1    Juan Francisco Rojas Leo Julio Durand Carrión ...         1  \n",
       "2    Juan Francisco Rojas Leo Julio Durand Carrión ...         0  \n",
       "3    Juan Francisco Rojas Leo Julio Durand Carrión ...         1  \n",
       "4    Juan Francisco Rojas Leo Julio Durand Carrión ...         0  \n",
       "..                                                 ...       ...  \n",
       "240  Julio Baltazar Durand Carrión Alejandro José R...         1  \n",
       "241  Julio Baltazar Durand Carrión Alejandro José R...         1  \n",
       "242  Julio Baltazar Durand Carrión Alejandro José R...         0  \n",
       "243  Julio Baltazar Durand Carrión Alejandro José R...         1  \n",
       "244  Julio Baltazar Durand Carrión Alejandro José R...         1  \n",
       "\n",
       "[245 rows x 16 columns]"
      ]
     },
     "execution_count": 2,
     "metadata": {},
     "output_type": "execute_result"
    }
   ],
   "source": [
    "#extrayendo data que proviene de 1. Cleaning-Resoluciones-Completas\n",
    "\n",
    "DF = pd.read_csv(\"Total-data-resol-1y2Quinquenio.csv\")\n",
    "DF"
   ]
  },
  {
   "cell_type": "code",
   "execution_count": 3,
   "metadata": {
    "scrolled": true
   },
   "outputs": [],
   "source": [
    "DF[\"todo\"] = DF['Número de resolución'] + \" \" + DF['Criterios aplicables'] + \" \" +str(DF['Año']) + \" \" +DF['Categoría']+ \" \" + DF[\"Materia\"] + \" \" + DF[\"Empresa denunciada\"] + \" \" + DF[\"Medios probatoriosCargo\"] + \" \" + DF[\"Medios probatorios Descargo\"] + \" \" + DF[\"Cuestiones\"] + \" \" + DF[\"Normativa sectorial aplicada\"] + \" \" + DF[\"Normativa específica\"] + \" \" + DF[\"Otras normas\"] + \" \" + DF[\"Multas\"] + \" \" + DF[\"Medidas correctivas\"] + \" \" + DF[\"Configuración del Tribunal\"]"
   ]
  },
  {
   "cell_type": "code",
   "execution_count": 4,
   "metadata": {
    "scrolled": false
   },
   "outputs": [],
   "source": [
    "#Para este análisis solo usaremos Criterios aplicables y Decision\n",
    "\n",
    "DF_nlp1 = DF[[\"Criterios aplicables\", \"Decisión\"]]"
   ]
  },
  {
   "cell_type": "code",
   "execution_count": 5,
   "metadata": {},
   "outputs": [],
   "source": [
    "DF_nlp2 = DF[[\"todo\", \"Decisión\"]]"
   ]
  },
  {
   "cell_type": "markdown",
   "metadata": {},
   "source": [
    "## 2. Limpieza"
   ]
  },
  {
   "cell_type": "code",
   "execution_count": 6,
   "metadata": {},
   "outputs": [
    {
     "data": {
      "text/plain": [
       "1    136\n",
       "0    109\n",
       "Name: Decisión, dtype: int64"
      ]
     },
     "execution_count": 6,
     "metadata": {},
     "output_type": "execute_result"
    }
   ],
   "source": [
    "#visualizamos conteo\n",
    "\n",
    "DF_nlp1[\"Decisión\"].value_counts() #balanceado"
   ]
  },
  {
   "cell_type": "code",
   "execution_count": 7,
   "metadata": {},
   "outputs": [],
   "source": [
    "#quitar en NaaN\n",
    "DF_nlp1.dropna(inplace=True)\n",
    "DF_nlp2.dropna(inplace=True)"
   ]
  },
  {
   "cell_type": "code",
   "execution_count": 8,
   "metadata": {},
   "outputs": [],
   "source": [
    "# quitamos caracteres especiales y numeros. Además quitamos las palabras pequeñas\n",
    "# y un par de stopwords que no deberían estar (por obvias razones xD)\n",
    "\n",
    "def limpieza(c):\n",
    "    \n",
    "    out = []\n",
    "    c = re.findall(r\"[a-zA-Z]+\",c)\n",
    "    for w in c:\n",
    "        #aqui creo la lista\n",
    "        if (len(w)>3 and (w!=\"para\") and (w!=\"ademas\") and (w!=\"culo\")):\n",
    "            out.append(w.lower())\n",
    "    \n",
    "    #aqui uno la lista en un cadena separada por espacios\n",
    "    return \" \".join(out)"
   ]
  },
  {
   "cell_type": "code",
   "execution_count": 9,
   "metadata": {
    "scrolled": true
   },
   "outputs": [],
   "source": [
    "# aplicar funcion de limpieza y creamos columna Limpio\n",
    "\n",
    "DF_nlp1['Limpio']=DF_nlp1['Criterios aplicables'].astype(\"str\").apply(limpieza)\n",
    "DF_nlp2['Limpio']=DF_nlp2['todo'].astype(\"str\").apply(limpieza)"
   ]
  },
  {
   "cell_type": "code",
   "execution_count": 10,
   "metadata": {},
   "outputs": [],
   "source": [
    "#Quitamos stopwords predeterminadas de NLTK\n",
    "\n",
    "def stopw(c):\n",
    "    out=[]\n",
    "    stop = stopwords.words(\"spanish\") \n",
    "    for w in c.split():\n",
    "        if w not in stop:\n",
    "            out.append(w)\n",
    "    return \" \".join(out)"
   ]
  },
  {
   "cell_type": "code",
   "execution_count": 11,
   "metadata": {},
   "outputs": [],
   "source": [
    "#aplicamos funcion de stopwords y creamos nueva columa SinSW\n",
    "\n",
    "DF_nlp1['SinSW']=DF_nlp1['Limpio'].astype(\"str\").apply(stopw)\n",
    "DF_nlp2['SinSW']=DF_nlp2['Limpio'].astype(\"str\").apply(stopw)"
   ]
  },
  {
   "cell_type": "code",
   "execution_count": 12,
   "metadata": {},
   "outputs": [],
   "source": [
    "#creamos funcion para stemmer\n",
    "from nltk.stem import SnowballStemmer\n",
    "\n",
    "def Stemmer(c):\n",
    "    out=[]\n",
    "    spanish_stemmer = SnowballStemmer('spanish')\n",
    "     \n",
    "    for w in c.split():\n",
    "        word_stem = spanish_stemmer.stem(str(w))\n",
    "        out.append(word_stem)\n",
    "    return \" \".join(out)"
   ]
  },
  {
   "cell_type": "code",
   "execution_count": 13,
   "metadata": {
    "scrolled": true
   },
   "outputs": [],
   "source": [
    "#aplicamos funcion de stemmer\n",
    "DF_nlp1['ConStem']=DF_nlp1['SinSW'].astype(\"str\").apply(Stemmer)\n",
    "DF_nlp2['ConStem']=DF_nlp2['SinSW'].astype(\"str\").apply(Stemmer)"
   ]
  },
  {
   "cell_type": "code",
   "execution_count": 14,
   "metadata": {
    "scrolled": true
   },
   "outputs": [
    {
     "data": {
      "text/html": [
       "<div>\n",
       "<style scoped>\n",
       "    .dataframe tbody tr th:only-of-type {\n",
       "        vertical-align: middle;\n",
       "    }\n",
       "\n",
       "    .dataframe tbody tr th {\n",
       "        vertical-align: top;\n",
       "    }\n",
       "\n",
       "    .dataframe thead th {\n",
       "        text-align: right;\n",
       "    }\n",
       "</style>\n",
       "<table border=\"1\" class=\"dataframe\">\n",
       "  <thead>\n",
       "    <tr style=\"text-align: right;\">\n",
       "      <th></th>\n",
       "      <th>Criterios aplicables</th>\n",
       "      <th>Decisión</th>\n",
       "      <th>Limpio</th>\n",
       "      <th>SinSW</th>\n",
       "      <th>ConStem</th>\n",
       "    </tr>\n",
       "  </thead>\n",
       "  <tbody>\n",
       "    <tr>\n",
       "      <th>0</th>\n",
       "      <td>la responsabilidad administrativa de Transport...</td>\n",
       "      <td>1</td>\n",
       "      <td>responsabilidad administrativa transportes flo...</td>\n",
       "      <td>responsabilidad administrativa transportes flo...</td>\n",
       "      <td>respons administr transport flor laprestaci se...</td>\n",
       "    </tr>\n",
       "    <tr>\n",
       "      <th>1</th>\n",
       "      <td>El punto de partida para demostrar la existenc...</td>\n",
       "      <td>1</td>\n",
       "      <td>punto partida demostrar existencia causa exima...</td>\n",
       "      <td>punto partida demostrar existencia causa exima...</td>\n",
       "      <td>punt part demostr existent caus exim respons p...</td>\n",
       "    </tr>\n",
       "    <tr>\n",
       "      <th>2</th>\n",
       "      <td>Para el dictado de medidas correctivas, la aus...</td>\n",
       "      <td>0</td>\n",
       "      <td>para dictado medidas correctivas ausencia regu...</td>\n",
       "      <td>dictado medidas correctivas ausencia regulaci ...</td>\n",
       "      <td>dict med correct ausenci regulaci espec ficaqu...</td>\n",
       "    </tr>\n",
       "    <tr>\n",
       "      <th>3</th>\n",
       "      <td>la causa no imputable debe ser entendida como ...</td>\n",
       "      <td>1</td>\n",
       "      <td>causa imputable debe entendida como evento ext...</td>\n",
       "      <td>causa imputable debe entendida evento extra es...</td>\n",
       "      <td>caus imput deb entend event extra esfer contro...</td>\n",
       "    </tr>\n",
       "    <tr>\n",
       "      <th>4</th>\n",
       "      <td>al contratar unservicio de transporte de carga...</td>\n",
       "      <td>0</td>\n",
       "      <td>contratar unservicio transporte carga consumid...</td>\n",
       "      <td>contratar unservicio transporte carga consumid...</td>\n",
       "      <td>contrat unservici transport carg consumidor ra...</td>\n",
       "    </tr>\n",
       "    <tr>\n",
       "      <th>...</th>\n",
       "      <td>...</td>\n",
       "      <td>...</td>\n",
       "      <td>...</td>\n",
       "      <td>...</td>\n",
       "      <td>...</td>\n",
       "    </tr>\n",
       "    <tr>\n",
       "      <th>240</th>\n",
       "      <td>Como se ha desarrollado de manera clara en la ...</td>\n",
       "      <td>1</td>\n",
       "      <td>como desarrollado manera clara presente resolu...</td>\n",
       "      <td>desarrollado manera clara presente resoluci re...</td>\n",
       "      <td>desarroll maner clar present resoluci reiter j...</td>\n",
       "    </tr>\n",
       "    <tr>\n",
       "      <th>241</th>\n",
       "      <td>Por consiguiente, la presunta falta de atenció...</td>\n",
       "      <td>1</td>\n",
       "      <td>consiguiente presunta falta atenci carta notar...</td>\n",
       "      <td>consiguiente presunta falta atenci carta notar...</td>\n",
       "      <td>consiguient presunt falt atenci cart notarial ...</td>\n",
       "    </tr>\n",
       "    <tr>\n",
       "      <th>242</th>\n",
       "      <td>En efecto, Transportes Yanatile alegó como sus...</td>\n",
       "      <td>0</td>\n",
       "      <td>efecto transportes yanatile aleg como sustento...</td>\n",
       "      <td>efecto transportes yanatile aleg sustento recu...</td>\n",
       "      <td>efect transport yanatil aleg sustent recurs re...</td>\n",
       "    </tr>\n",
       "    <tr>\n",
       "      <th>243</th>\n",
       "      <td>Asimismo, la Sala comparte los fundamentos de ...</td>\n",
       "      <td>1</td>\n",
       "      <td>asimismo sala comparte fundamentos primera ins...</td>\n",
       "      <td>asimismo sala comparte fundamentos primera ins...</td>\n",
       "      <td>asim sal compart fundament primer instanci hec...</td>\n",
       "    </tr>\n",
       "    <tr>\n",
       "      <th>244</th>\n",
       "      <td>Sobre el particular, cabe tener presente que e...</td>\n",
       "      <td>1</td>\n",
       "      <td>sobre particular cabe tener presente caso empr...</td>\n",
       "      <td>particular cabe tener presente caso empresas d...</td>\n",
       "      <td>particul cab ten present cas empres dedic serv...</td>\n",
       "    </tr>\n",
       "  </tbody>\n",
       "</table>\n",
       "<p>245 rows × 5 columns</p>\n",
       "</div>"
      ],
      "text/plain": [
       "                                  Criterios aplicables  Decisión  \\\n",
       "0    la responsabilidad administrativa de Transport...         1   \n",
       "1    El punto de partida para demostrar la existenc...         1   \n",
       "2    Para el dictado de medidas correctivas, la aus...         0   \n",
       "3    la causa no imputable debe ser entendida como ...         1   \n",
       "4    al contratar unservicio de transporte de carga...         0   \n",
       "..                                                 ...       ...   \n",
       "240  Como se ha desarrollado de manera clara en la ...         1   \n",
       "241  Por consiguiente, la presunta falta de atenció...         1   \n",
       "242  En efecto, Transportes Yanatile alegó como sus...         0   \n",
       "243  Asimismo, la Sala comparte los fundamentos de ...         1   \n",
       "244  Sobre el particular, cabe tener presente que e...         1   \n",
       "\n",
       "                                                Limpio  \\\n",
       "0    responsabilidad administrativa transportes flo...   \n",
       "1    punto partida demostrar existencia causa exima...   \n",
       "2    para dictado medidas correctivas ausencia regu...   \n",
       "3    causa imputable debe entendida como evento ext...   \n",
       "4    contratar unservicio transporte carga consumid...   \n",
       "..                                                 ...   \n",
       "240  como desarrollado manera clara presente resolu...   \n",
       "241  consiguiente presunta falta atenci carta notar...   \n",
       "242  efecto transportes yanatile aleg como sustento...   \n",
       "243  asimismo sala comparte fundamentos primera ins...   \n",
       "244  sobre particular cabe tener presente caso empr...   \n",
       "\n",
       "                                                 SinSW  \\\n",
       "0    responsabilidad administrativa transportes flo...   \n",
       "1    punto partida demostrar existencia causa exima...   \n",
       "2    dictado medidas correctivas ausencia regulaci ...   \n",
       "3    causa imputable debe entendida evento extra es...   \n",
       "4    contratar unservicio transporte carga consumid...   \n",
       "..                                                 ...   \n",
       "240  desarrollado manera clara presente resoluci re...   \n",
       "241  consiguiente presunta falta atenci carta notar...   \n",
       "242  efecto transportes yanatile aleg sustento recu...   \n",
       "243  asimismo sala comparte fundamentos primera ins...   \n",
       "244  particular cabe tener presente caso empresas d...   \n",
       "\n",
       "                                               ConStem  \n",
       "0    respons administr transport flor laprestaci se...  \n",
       "1    punt part demostr existent caus exim respons p...  \n",
       "2    dict med correct ausenci regulaci espec ficaqu...  \n",
       "3    caus imput deb entend event extra esfer contro...  \n",
       "4    contrat unservici transport carg consumidor ra...  \n",
       "..                                                 ...  \n",
       "240  desarroll maner clar present resoluci reiter j...  \n",
       "241  consiguient presunt falt atenci cart notarial ...  \n",
       "242  efect transport yanatil aleg sustent recurs re...  \n",
       "243  asim sal compart fundament primer instanci hec...  \n",
       "244  particul cab ten present cas empres dedic serv...  \n",
       "\n",
       "[245 rows x 5 columns]"
      ]
     },
     "execution_count": 14,
     "metadata": {},
     "output_type": "execute_result"
    }
   ],
   "source": [
    "DF_nlp1"
   ]
  },
  {
   "cell_type": "code",
   "execution_count": 15,
   "metadata": {},
   "outputs": [
    {
     "data": {
      "text/html": [
       "<div>\n",
       "<style scoped>\n",
       "    .dataframe tbody tr th:only-of-type {\n",
       "        vertical-align: middle;\n",
       "    }\n",
       "\n",
       "    .dataframe tbody tr th {\n",
       "        vertical-align: top;\n",
       "    }\n",
       "\n",
       "    .dataframe thead th {\n",
       "        text-align: right;\n",
       "    }\n",
       "</style>\n",
       "<table border=\"1\" class=\"dataframe\">\n",
       "  <thead>\n",
       "    <tr style=\"text-align: right;\">\n",
       "      <th></th>\n",
       "      <th>todo</th>\n",
       "      <th>Decisión</th>\n",
       "      <th>Limpio</th>\n",
       "      <th>SinSW</th>\n",
       "      <th>ConStem</th>\n",
       "    </tr>\n",
       "  </thead>\n",
       "  <tbody>\n",
       "    <tr>\n",
       "      <th>0</th>\n",
       "      <td>0064-2006/TDC-INDECOPI la responsabilidad admi...</td>\n",
       "      <td>1</td>\n",
       "      <td>indecopi responsabilidad administrativa transp...</td>\n",
       "      <td>indecopi responsabilidad administrativa transp...</td>\n",
       "      <td>indecopi respons administr transport flor lapr...</td>\n",
       "    </tr>\n",
       "    <tr>\n",
       "      <th>1</th>\n",
       "      <td>0071-2006/TDC-INDECOPI El punto de partida par...</td>\n",
       "      <td>1</td>\n",
       "      <td>indecopi punto partida demostrar existencia ca...</td>\n",
       "      <td>indecopi punto partida demostrar existencia ca...</td>\n",
       "      <td>indecopi punt part demostr existent caus exim ...</td>\n",
       "    </tr>\n",
       "    <tr>\n",
       "      <th>2</th>\n",
       "      <td>0142-2006/TDC-INDECOPI Para el dictado de medi...</td>\n",
       "      <td>0</td>\n",
       "      <td>indecopi para dictado medidas correctivas ause...</td>\n",
       "      <td>indecopi dictado medidas correctivas ausencia ...</td>\n",
       "      <td>indecopi dict med correct ausenci regulaci esp...</td>\n",
       "    </tr>\n",
       "    <tr>\n",
       "      <th>3</th>\n",
       "      <td>1335-2006/TDC-INDECOPI la causa no imputable d...</td>\n",
       "      <td>1</td>\n",
       "      <td>indecopi causa imputable debe entendida como e...</td>\n",
       "      <td>indecopi causa imputable debe entendida evento...</td>\n",
       "      <td>indecopi caus imput deb entend event extra esf...</td>\n",
       "    </tr>\n",
       "    <tr>\n",
       "      <th>4</th>\n",
       "      <td>1428-2006/TDC.INDECOPI al contratar unservicio...</td>\n",
       "      <td>0</td>\n",
       "      <td>indecopi contratar unservicio transporte carga...</td>\n",
       "      <td>indecopi contratar unservicio transporte carga...</td>\n",
       "      <td>indecopi contrat unservici transport carg cons...</td>\n",
       "    </tr>\n",
       "    <tr>\n",
       "      <th>...</th>\n",
       "      <td>...</td>\n",
       "      <td>...</td>\n",
       "      <td>...</td>\n",
       "      <td>...</td>\n",
       "      <td>...</td>\n",
       "    </tr>\n",
       "    <tr>\n",
       "      <th>240</th>\n",
       "      <td>1164-2015/SPC-INDECOPI Como se ha desarrollado...</td>\n",
       "      <td>1</td>\n",
       "      <td>indecopi como desarrollado manera clara presen...</td>\n",
       "      <td>indecopi desarrollado manera clara presente re...</td>\n",
       "      <td>indecopi desarroll maner clar present resoluci...</td>\n",
       "    </tr>\n",
       "    <tr>\n",
       "      <th>241</th>\n",
       "      <td>1208-2015/SPC-INDECOPI Por consiguiente, la pr...</td>\n",
       "      <td>1</td>\n",
       "      <td>indecopi consiguiente presunta falta atenci ca...</td>\n",
       "      <td>indecopi consiguiente presunta falta atenci ca...</td>\n",
       "      <td>indecopi consiguient presunt falt atenci cart ...</td>\n",
       "    </tr>\n",
       "    <tr>\n",
       "      <th>242</th>\n",
       "      <td>1293-2015/SPC-INDECOPI En efecto, Transportes ...</td>\n",
       "      <td>0</td>\n",
       "      <td>indecopi efecto transportes yanatile aleg como...</td>\n",
       "      <td>indecopi efecto transportes yanatile aleg sust...</td>\n",
       "      <td>indecopi efect transport yanatil aleg sustent ...</td>\n",
       "    </tr>\n",
       "    <tr>\n",
       "      <th>243</th>\n",
       "      <td>2688-2015/SPC-INDECOPI Asimismo, la Sala compa...</td>\n",
       "      <td>1</td>\n",
       "      <td>indecopi asimismo sala comparte fundamentos pr...</td>\n",
       "      <td>indecopi asimismo sala comparte fundamentos pr...</td>\n",
       "      <td>indecopi asim sal compart fundament primer ins...</td>\n",
       "    </tr>\n",
       "    <tr>\n",
       "      <th>244</th>\n",
       "      <td>3676-2015/SPC-INDECOPI Sobre el particular, ca...</td>\n",
       "      <td>1</td>\n",
       "      <td>indecopi sobre particular cabe tener presente ...</td>\n",
       "      <td>indecopi particular cabe tener presente caso e...</td>\n",
       "      <td>indecopi particul cab ten present cas empres d...</td>\n",
       "    </tr>\n",
       "  </tbody>\n",
       "</table>\n",
       "<p>243 rows × 5 columns</p>\n",
       "</div>"
      ],
      "text/plain": [
       "                                                  todo  Decisión  \\\n",
       "0    0064-2006/TDC-INDECOPI la responsabilidad admi...         1   \n",
       "1    0071-2006/TDC-INDECOPI El punto de partida par...         1   \n",
       "2    0142-2006/TDC-INDECOPI Para el dictado de medi...         0   \n",
       "3    1335-2006/TDC-INDECOPI la causa no imputable d...         1   \n",
       "4    1428-2006/TDC.INDECOPI al contratar unservicio...         0   \n",
       "..                                                 ...       ...   \n",
       "240  1164-2015/SPC-INDECOPI Como se ha desarrollado...         1   \n",
       "241  1208-2015/SPC-INDECOPI Por consiguiente, la pr...         1   \n",
       "242  1293-2015/SPC-INDECOPI En efecto, Transportes ...         0   \n",
       "243  2688-2015/SPC-INDECOPI Asimismo, la Sala compa...         1   \n",
       "244  3676-2015/SPC-INDECOPI Sobre el particular, ca...         1   \n",
       "\n",
       "                                                Limpio  \\\n",
       "0    indecopi responsabilidad administrativa transp...   \n",
       "1    indecopi punto partida demostrar existencia ca...   \n",
       "2    indecopi para dictado medidas correctivas ause...   \n",
       "3    indecopi causa imputable debe entendida como e...   \n",
       "4    indecopi contratar unservicio transporte carga...   \n",
       "..                                                 ...   \n",
       "240  indecopi como desarrollado manera clara presen...   \n",
       "241  indecopi consiguiente presunta falta atenci ca...   \n",
       "242  indecopi efecto transportes yanatile aleg como...   \n",
       "243  indecopi asimismo sala comparte fundamentos pr...   \n",
       "244  indecopi sobre particular cabe tener presente ...   \n",
       "\n",
       "                                                 SinSW  \\\n",
       "0    indecopi responsabilidad administrativa transp...   \n",
       "1    indecopi punto partida demostrar existencia ca...   \n",
       "2    indecopi dictado medidas correctivas ausencia ...   \n",
       "3    indecopi causa imputable debe entendida evento...   \n",
       "4    indecopi contratar unservicio transporte carga...   \n",
       "..                                                 ...   \n",
       "240  indecopi desarrollado manera clara presente re...   \n",
       "241  indecopi consiguiente presunta falta atenci ca...   \n",
       "242  indecopi efecto transportes yanatile aleg sust...   \n",
       "243  indecopi asimismo sala comparte fundamentos pr...   \n",
       "244  indecopi particular cabe tener presente caso e...   \n",
       "\n",
       "                                               ConStem  \n",
       "0    indecopi respons administr transport flor lapr...  \n",
       "1    indecopi punt part demostr existent caus exim ...  \n",
       "2    indecopi dict med correct ausenci regulaci esp...  \n",
       "3    indecopi caus imput deb entend event extra esf...  \n",
       "4    indecopi contrat unservici transport carg cons...  \n",
       "..                                                 ...  \n",
       "240  indecopi desarroll maner clar present resoluci...  \n",
       "241  indecopi consiguient presunt falt atenci cart ...  \n",
       "242  indecopi efect transport yanatil aleg sustent ...  \n",
       "243  indecopi asim sal compart fundament primer ins...  \n",
       "244  indecopi particul cab ten present cas empres d...  \n",
       "\n",
       "[243 rows x 5 columns]"
      ]
     },
     "execution_count": 15,
     "metadata": {},
     "output_type": "execute_result"
    }
   ],
   "source": [
    "DF_nlp2"
   ]
  },
  {
   "cell_type": "code",
   "execution_count": 16,
   "metadata": {},
   "outputs": [],
   "source": [
    "DF_nlp1.to_csv(\"Limpio-criterio.csv\")"
   ]
  },
  {
   "cell_type": "code",
   "execution_count": 17,
   "metadata": {},
   "outputs": [],
   "source": [
    "DF_nlp2.to_csv(\"Limpio-todo.csv\")"
   ]
  },
  {
   "cell_type": "markdown",
   "metadata": {},
   "source": [
    "## 3. Vectorizacion"
   ]
  },
  {
   "cell_type": "markdown",
   "metadata": {},
   "source": [
    "### 3.1. TF"
   ]
  },
  {
   "cell_type": "code",
   "execution_count": null,
   "metadata": {},
   "outputs": [],
   "source": []
  },
  {
   "cell_type": "code",
   "execution_count": null,
   "metadata": {},
   "outputs": [],
   "source": []
  },
  {
   "cell_type": "code",
   "execution_count": null,
   "metadata": {},
   "outputs": [],
   "source": []
  },
  {
   "cell_type": "code",
   "execution_count": null,
   "metadata": {},
   "outputs": [],
   "source": []
  },
  {
   "cell_type": "markdown",
   "metadata": {},
   "source": [
    "### 3.2. TF-IDF"
   ]
  },
  {
   "cell_type": "code",
   "execution_count": 18,
   "metadata": {},
   "outputs": [],
   "source": [
    "criterios1 = DF_nlp1['ConStem'].values.tolist()\n",
    "criterios2 = DF_nlp2['ConStem'].values.tolist()"
   ]
  },
  {
   "cell_type": "code",
   "execution_count": 19,
   "metadata": {},
   "outputs": [],
   "source": [
    "#aplicamos tf-idf. Aquí se tienen solo 100 palabras,\n",
    "# esto fue de manera experimental, se probo con 20, 50, 100 y se comparaba el aumento de acc de SVM\n",
    "vectorizer1 = TfidfVectorizer(max_features=100)\n",
    "FV1 = vectorizer1.fit_transform(criterios1)\n",
    "FV1 = FV1.toarray()"
   ]
  },
  {
   "cell_type": "code",
   "execution_count": 20,
   "metadata": {},
   "outputs": [],
   "source": [
    "vectorizer2 = TfidfVectorizer(max_features=100)\n",
    "FV2 = vectorizer2.fit_transform(criterios2)\n",
    "FV2 = FV2.toarray()"
   ]
  },
  {
   "cell_type": "code",
   "execution_count": 21,
   "metadata": {
    "scrolled": true
   },
   "outputs": [
    {
     "data": {
      "text/plain": [
       "['acredit',\n",
       " 'adecu',\n",
       " 'administr',\n",
       " 'alad',\n",
       " 'aplic',\n",
       " 'bien',\n",
       " 'calid',\n",
       " 'carg',\n",
       " 'cas',\n",
       " 'caus',\n",
       " 'comisi',\n",
       " 'condicion',\n",
       " 'conduct',\n",
       " 'confirm',\n",
       " 'conform',\n",
       " 'consecuent',\n",
       " 'consider',\n",
       " 'consumidor',\n",
       " 'conten',\n",
       " 'contrat',\n",
       " 'correct',\n",
       " 'correspond',\n",
       " 'criteri',\n",
       " 'cuent',\n",
       " 'cumpl',\n",
       " 'custodi',\n",
       " 'deb',\n",
       " 'decl',\n",
       " 'decret',\n",
       " 'defect',\n",
       " 'denunci',\n",
       " 'destin',\n",
       " 'determin',\n",
       " 'dich',\n",
       " 'efect',\n",
       " 'ello',\n",
       " 'embarg',\n",
       " 'empres',\n",
       " 'encomiend',\n",
       " 'entreg',\n",
       " 'equipaj',\n",
       " 'establec',\n",
       " 'evit',\n",
       " 'exim',\n",
       " 'existent',\n",
       " 'expuest',\n",
       " 'extrav',\n",
       " 'extravi',\n",
       " 'extrem',\n",
       " 'final',\n",
       " 'hab',\n",
       " 'hech',\n",
       " 'idon',\n",
       " 'impon',\n",
       " 'indecopi',\n",
       " 'infracci',\n",
       " 'infractor',\n",
       " 'legisl',\n",
       " 'materi',\n",
       " 'mayor',\n",
       " 'med',\n",
       " 'medi',\n",
       " 'merc',\n",
       " 'mism',\n",
       " 'mont',\n",
       " 'mult',\n",
       " 'necesari',\n",
       " 'norm',\n",
       " 'objet',\n",
       " 'obligaci',\n",
       " 'ofrec',\n",
       " 'orden',\n",
       " 'part',\n",
       " 'pasajer',\n",
       " 'pes',\n",
       " 'present',\n",
       " 'prest',\n",
       " 'prestaci',\n",
       " 'proced',\n",
       " 'product',\n",
       " 'protecci',\n",
       " 'proveedor',\n",
       " 'pued',\n",
       " 'rdid',\n",
       " 'realiz',\n",
       " 'resoluci',\n",
       " 'respect',\n",
       " 'respons',\n",
       " 'result',\n",
       " 'revert',\n",
       " 'sal',\n",
       " 'sanci',\n",
       " 'sancion',\n",
       " 'segur',\n",
       " 'servici',\n",
       " 'supuest',\n",
       " 'terrestr',\n",
       " 'transport',\n",
       " 'valor',\n",
       " 'viaj']"
      ]
     },
     "execution_count": 21,
     "metadata": {},
     "output_type": "execute_result"
    }
   ],
   "source": [
    "#mostramos palabras mas usadas\n",
    "corpus1 = vectorizer1.get_feature_names()\n",
    "corpus1"
   ]
  },
  {
   "cell_type": "code",
   "execution_count": 22,
   "metadata": {
    "scrolled": true
   },
   "outputs": [
    {
     "data": {
      "text/plain": [
       "['acredit',\n",
       " 'adecu',\n",
       " 'administr',\n",
       " 'alberti',\n",
       " 'bien',\n",
       " 'bolet',\n",
       " 'calid',\n",
       " 'camil',\n",
       " 'carg',\n",
       " 'carrill',\n",
       " 'cas',\n",
       " 'civil',\n",
       " 'comisi',\n",
       " 'conduct',\n",
       " 'confirm',\n",
       " 'conform',\n",
       " 'consecuent',\n",
       " 'consider',\n",
       " 'consumidor',\n",
       " 'conten',\n",
       " 'contrat',\n",
       " 'correct',\n",
       " 'correspond',\n",
       " 'cost',\n",
       " 'cuent',\n",
       " 'cumpl',\n",
       " 'custodi',\n",
       " 'deb',\n",
       " 'decret',\n",
       " 'defect',\n",
       " 'denunci',\n",
       " 'destin',\n",
       " 'determin',\n",
       " 'dich',\n",
       " 'dig',\n",
       " 'dtype',\n",
       " 'efect',\n",
       " 'ello',\n",
       " 'empres',\n",
       " 'encomiend',\n",
       " 'entreg',\n",
       " 'equipaj',\n",
       " 'establec',\n",
       " 'existent',\n",
       " 'extrav',\n",
       " 'extrem',\n",
       " 'facultad',\n",
       " 'final',\n",
       " 'francisc',\n",
       " 'general',\n",
       " 'hech',\n",
       " 'hern',\n",
       " 'idon',\n",
       " 'impon',\n",
       " 'indecopi',\n",
       " 'infracci',\n",
       " 'infractor',\n",
       " 'juan',\n",
       " 'legisl',\n",
       " 'length',\n",
       " 'luis',\n",
       " 'materi',\n",
       " 'med',\n",
       " 'merc',\n",
       " 'mism',\n",
       " 'montoy',\n",
       " 'nacional',\n",
       " 'nam',\n",
       " 'nicanor',\n",
       " 'norm',\n",
       " 'objet',\n",
       " 'orden',\n",
       " 'organizaci',\n",
       " 'pag',\n",
       " 'part',\n",
       " 'pasajer',\n",
       " 'pes',\n",
       " 'present',\n",
       " 'prest',\n",
       " 'prestaci',\n",
       " 'proced',\n",
       " 'product',\n",
       " 'protecci',\n",
       " 'proveedor',\n",
       " 'pued',\n",
       " 'rdid',\n",
       " 'reglament',\n",
       " 'resoluci',\n",
       " 'respect',\n",
       " 'respons',\n",
       " 'result',\n",
       " 'sal',\n",
       " 'segur',\n",
       " 'servici',\n",
       " 'suprem',\n",
       " 'supuest',\n",
       " 'terrestr',\n",
       " 'transport',\n",
       " 'valor',\n",
       " 'viaj']"
      ]
     },
     "execution_count": 22,
     "metadata": {},
     "output_type": "execute_result"
    }
   ],
   "source": [
    "corpus2 = vectorizer2.get_feature_names()\n",
    "corpus2"
   ]
  },
  {
   "cell_type": "code",
   "execution_count": 23,
   "metadata": {},
   "outputs": [
    {
     "data": {
      "text/html": [
       "<div>\n",
       "<style scoped>\n",
       "    .dataframe tbody tr th:only-of-type {\n",
       "        vertical-align: middle;\n",
       "    }\n",
       "\n",
       "    .dataframe tbody tr th {\n",
       "        vertical-align: top;\n",
       "    }\n",
       "\n",
       "    .dataframe thead th {\n",
       "        text-align: right;\n",
       "    }\n",
       "</style>\n",
       "<table border=\"1\" class=\"dataframe\">\n",
       "  <thead>\n",
       "    <tr style=\"text-align: right;\">\n",
       "      <th></th>\n",
       "      <th>Criterios aplicables</th>\n",
       "      <th>Decisión</th>\n",
       "      <th>Limpio</th>\n",
       "      <th>SinSW</th>\n",
       "      <th>ConStem</th>\n",
       "      <th>FV</th>\n",
       "    </tr>\n",
       "  </thead>\n",
       "  <tbody>\n",
       "    <tr>\n",
       "      <th>0</th>\n",
       "      <td>la responsabilidad administrativa de Transport...</td>\n",
       "      <td>1</td>\n",
       "      <td>responsabilidad administrativa transportes flo...</td>\n",
       "      <td>responsabilidad administrativa transportes flo...</td>\n",
       "      <td>respons administr transport flor laprestaci se...</td>\n",
       "      <td>[0.12690782898855163, 0.0, 0.07666692646210482...</td>\n",
       "    </tr>\n",
       "    <tr>\n",
       "      <th>1</th>\n",
       "      <td>El punto de partida para demostrar la existenc...</td>\n",
       "      <td>1</td>\n",
       "      <td>punto partida demostrar existencia causa exima...</td>\n",
       "      <td>punto partida demostrar existencia causa exima...</td>\n",
       "      <td>punt part demostr existent caus exim respons p...</td>\n",
       "      <td>[0.23452532302538726, 0.0, 0.0, 0.0, 0.0, 0.0,...</td>\n",
       "    </tr>\n",
       "    <tr>\n",
       "      <th>2</th>\n",
       "      <td>Para el dictado de medidas correctivas, la aus...</td>\n",
       "      <td>0</td>\n",
       "      <td>para dictado medidas correctivas ausencia regu...</td>\n",
       "      <td>dictado medidas correctivas ausencia regulaci ...</td>\n",
       "      <td>dict med correct ausenci regulaci espec ficaqu...</td>\n",
       "      <td>[0.0, 0.0, 0.0, 0.0, 0.0, 0.23870759208102507,...</td>\n",
       "    </tr>\n",
       "    <tr>\n",
       "      <th>3</th>\n",
       "      <td>la causa no imputable debe ser entendida como ...</td>\n",
       "      <td>1</td>\n",
       "      <td>causa imputable debe entendida como evento ext...</td>\n",
       "      <td>causa imputable debe entendida evento extra es...</td>\n",
       "      <td>caus imput deb entend event extra esfer contro...</td>\n",
       "      <td>[0.0, 0.08634310097847096, 0.06669054072911727...</td>\n",
       "    </tr>\n",
       "    <tr>\n",
       "      <th>4</th>\n",
       "      <td>al contratar unservicio de transporte de carga...</td>\n",
       "      <td>0</td>\n",
       "      <td>contratar unservicio transporte carga consumid...</td>\n",
       "      <td>contratar unservicio transporte carga consumid...</td>\n",
       "      <td>contrat unservici transport carg consumidor ra...</td>\n",
       "      <td>[0.13867183116858692, 0.0, 0.167547473899763, ...</td>\n",
       "    </tr>\n",
       "  </tbody>\n",
       "</table>\n",
       "</div>"
      ],
      "text/plain": [
       "                                Criterios aplicables  Decisión  \\\n",
       "0  la responsabilidad administrativa de Transport...         1   \n",
       "1  El punto de partida para demostrar la existenc...         1   \n",
       "2  Para el dictado de medidas correctivas, la aus...         0   \n",
       "3  la causa no imputable debe ser entendida como ...         1   \n",
       "4  al contratar unservicio de transporte de carga...         0   \n",
       "\n",
       "                                              Limpio  \\\n",
       "0  responsabilidad administrativa transportes flo...   \n",
       "1  punto partida demostrar existencia causa exima...   \n",
       "2  para dictado medidas correctivas ausencia regu...   \n",
       "3  causa imputable debe entendida como evento ext...   \n",
       "4  contratar unservicio transporte carga consumid...   \n",
       "\n",
       "                                               SinSW  \\\n",
       "0  responsabilidad administrativa transportes flo...   \n",
       "1  punto partida demostrar existencia causa exima...   \n",
       "2  dictado medidas correctivas ausencia regulaci ...   \n",
       "3  causa imputable debe entendida evento extra es...   \n",
       "4  contratar unservicio transporte carga consumid...   \n",
       "\n",
       "                                             ConStem  \\\n",
       "0  respons administr transport flor laprestaci se...   \n",
       "1  punt part demostr existent caus exim respons p...   \n",
       "2  dict med correct ausenci regulaci espec ficaqu...   \n",
       "3  caus imput deb entend event extra esfer contro...   \n",
       "4  contrat unservici transport carg consumidor ra...   \n",
       "\n",
       "                                                  FV  \n",
       "0  [0.12690782898855163, 0.0, 0.07666692646210482...  \n",
       "1  [0.23452532302538726, 0.0, 0.0, 0.0, 0.0, 0.0,...  \n",
       "2  [0.0, 0.0, 0.0, 0.0, 0.0, 0.23870759208102507,...  \n",
       "3  [0.0, 0.08634310097847096, 0.06669054072911727...  \n",
       "4  [0.13867183116858692, 0.0, 0.167547473899763, ...  "
      ]
     },
     "execution_count": 23,
     "metadata": {},
     "output_type": "execute_result"
    }
   ],
   "source": [
    "#creamos columna de vectores caracte\n",
    "DF_nlp1['FV'] = FV1.tolist()\n",
    "DF_nlp1.head()"
   ]
  },
  {
   "cell_type": "code",
   "execution_count": 24,
   "metadata": {},
   "outputs": [
    {
     "data": {
      "text/html": [
       "<div>\n",
       "<style scoped>\n",
       "    .dataframe tbody tr th:only-of-type {\n",
       "        vertical-align: middle;\n",
       "    }\n",
       "\n",
       "    .dataframe tbody tr th {\n",
       "        vertical-align: top;\n",
       "    }\n",
       "\n",
       "    .dataframe thead th {\n",
       "        text-align: right;\n",
       "    }\n",
       "</style>\n",
       "<table border=\"1\" class=\"dataframe\">\n",
       "  <thead>\n",
       "    <tr style=\"text-align: right;\">\n",
       "      <th></th>\n",
       "      <th>todo</th>\n",
       "      <th>Decisión</th>\n",
       "      <th>Limpio</th>\n",
       "      <th>SinSW</th>\n",
       "      <th>ConStem</th>\n",
       "      <th>FV</th>\n",
       "    </tr>\n",
       "  </thead>\n",
       "  <tbody>\n",
       "    <tr>\n",
       "      <th>0</th>\n",
       "      <td>0064-2006/TDC-INDECOPI la responsabilidad admi...</td>\n",
       "      <td>1</td>\n",
       "      <td>indecopi responsabilidad administrativa transp...</td>\n",
       "      <td>indecopi responsabilidad administrativa transp...</td>\n",
       "      <td>indecopi respons administr transport flor lapr...</td>\n",
       "      <td>[0.11004376010471337, 0.0, 0.04538661625378674...</td>\n",
       "    </tr>\n",
       "    <tr>\n",
       "      <th>1</th>\n",
       "      <td>0071-2006/TDC-INDECOPI El punto de partida par...</td>\n",
       "      <td>1</td>\n",
       "      <td>indecopi punto partida demostrar existencia ca...</td>\n",
       "      <td>indecopi punto partida demostrar existencia ca...</td>\n",
       "      <td>indecopi punt part demostr existent caus exim ...</td>\n",
       "      <td>[0.2397600253772149, 0.0, 0.0, 0.0, 0.0, 0.0, ...</td>\n",
       "    </tr>\n",
       "    <tr>\n",
       "      <th>2</th>\n",
       "      <td>0142-2006/TDC-INDECOPI Para el dictado de medi...</td>\n",
       "      <td>0</td>\n",
       "      <td>indecopi para dictado medidas correctivas ause...</td>\n",
       "      <td>indecopi dictado medidas correctivas ausencia ...</td>\n",
       "      <td>indecopi dict med correct ausenci regulaci esp...</td>\n",
       "      <td>[0.0, 0.0, 0.0, 0.0, 0.13511273759830278, 0.0,...</td>\n",
       "    </tr>\n",
       "    <tr>\n",
       "      <th>3</th>\n",
       "      <td>1335-2006/TDC-INDECOPI la causa no imputable d...</td>\n",
       "      <td>1</td>\n",
       "      <td>indecopi causa imputable debe entendida como e...</td>\n",
       "      <td>indecopi causa imputable debe entendida evento...</td>\n",
       "      <td>indecopi caus imput deb entend event extra esf...</td>\n",
       "      <td>[0.0, 0.08969540942352676, 0.04762100128964493...</td>\n",
       "    </tr>\n",
       "    <tr>\n",
       "      <th>4</th>\n",
       "      <td>1428-2006/TDC.INDECOPI al contratar unservicio...</td>\n",
       "      <td>0</td>\n",
       "      <td>indecopi contratar unservicio transporte carga...</td>\n",
       "      <td>indecopi contratar unservicio transporte carga...</td>\n",
       "      <td>indecopi contrat unservici transport carg cons...</td>\n",
       "      <td>[0.12556457824941225, 0.0, 0.15536413848413808...</td>\n",
       "    </tr>\n",
       "  </tbody>\n",
       "</table>\n",
       "</div>"
      ],
      "text/plain": [
       "                                                todo  Decisión  \\\n",
       "0  0064-2006/TDC-INDECOPI la responsabilidad admi...         1   \n",
       "1  0071-2006/TDC-INDECOPI El punto de partida par...         1   \n",
       "2  0142-2006/TDC-INDECOPI Para el dictado de medi...         0   \n",
       "3  1335-2006/TDC-INDECOPI la causa no imputable d...         1   \n",
       "4  1428-2006/TDC.INDECOPI al contratar unservicio...         0   \n",
       "\n",
       "                                              Limpio  \\\n",
       "0  indecopi responsabilidad administrativa transp...   \n",
       "1  indecopi punto partida demostrar existencia ca...   \n",
       "2  indecopi para dictado medidas correctivas ause...   \n",
       "3  indecopi causa imputable debe entendida como e...   \n",
       "4  indecopi contratar unservicio transporte carga...   \n",
       "\n",
       "                                               SinSW  \\\n",
       "0  indecopi responsabilidad administrativa transp...   \n",
       "1  indecopi punto partida demostrar existencia ca...   \n",
       "2  indecopi dictado medidas correctivas ausencia ...   \n",
       "3  indecopi causa imputable debe entendida evento...   \n",
       "4  indecopi contratar unservicio transporte carga...   \n",
       "\n",
       "                                             ConStem  \\\n",
       "0  indecopi respons administr transport flor lapr...   \n",
       "1  indecopi punt part demostr existent caus exim ...   \n",
       "2  indecopi dict med correct ausenci regulaci esp...   \n",
       "3  indecopi caus imput deb entend event extra esf...   \n",
       "4  indecopi contrat unservici transport carg cons...   \n",
       "\n",
       "                                                  FV  \n",
       "0  [0.11004376010471337, 0.0, 0.04538661625378674...  \n",
       "1  [0.2397600253772149, 0.0, 0.0, 0.0, 0.0, 0.0, ...  \n",
       "2  [0.0, 0.0, 0.0, 0.0, 0.13511273759830278, 0.0,...  \n",
       "3  [0.0, 0.08969540942352676, 0.04762100128964493...  \n",
       "4  [0.12556457824941225, 0.0, 0.15536413848413808...  "
      ]
     },
     "execution_count": 24,
     "metadata": {},
     "output_type": "execute_result"
    }
   ],
   "source": [
    "DF_nlp2['FV'] = FV2.tolist()\n",
    "DF_nlp2.head()"
   ]
  },
  {
   "cell_type": "markdown",
   "metadata": {},
   "source": [
    "## 4. Clasificación"
   ]
  },
  {
   "cell_type": "markdown",
   "metadata": {},
   "source": [
    "#### Separando Train/Test (80%/20%)"
   ]
  },
  {
   "cell_type": "code",
   "execution_count": 25,
   "metadata": {},
   "outputs": [],
   "source": [
    "from sklearn.model_selection import train_test_split"
   ]
  },
  {
   "cell_type": "code",
   "execution_count": 26,
   "metadata": {},
   "outputs": [],
   "source": [
    "#Entrada: vector característico\n",
    "X1 = np.array(DF_nlp1.FV.to_list())\n",
    "\n",
    "#Salida: Decision - 3 categorias\n",
    "Y1 = np.array(DF_nlp1.Decisión.to_list())"
   ]
  },
  {
   "cell_type": "code",
   "execution_count": 27,
   "metadata": {},
   "outputs": [
    {
     "data": {
      "text/plain": [
       "((245, 100), (245,))"
      ]
     },
     "execution_count": 27,
     "metadata": {},
     "output_type": "execute_result"
    }
   ],
   "source": [
    "X1.shape,Y1.shape"
   ]
  },
  {
   "cell_type": "code",
   "execution_count": 28,
   "metadata": {},
   "outputs": [],
   "source": [
    "X1_train, X1_test, y1_train, y1_test = train_test_split(X1,\n",
    "                                                    Y1,\n",
    "                                                    test_size=0.2,\n",
    "                                                   random_state=10)"
   ]
  },
  {
   "cell_type": "code",
   "execution_count": 29,
   "metadata": {},
   "outputs": [
    {
     "data": {
      "text/plain": [
       "((196, 100), (49, 100), (196,), (49,))"
      ]
     },
     "execution_count": 29,
     "metadata": {},
     "output_type": "execute_result"
    }
   ],
   "source": [
    "X1_train.shape,X1_test.shape,y1_train.shape,y1_test.shape"
   ]
  },
  {
   "cell_type": "code",
   "execution_count": null,
   "metadata": {},
   "outputs": [],
   "source": []
  },
  {
   "cell_type": "code",
   "execution_count": 30,
   "metadata": {},
   "outputs": [],
   "source": [
    "#Entrada: vector característico\n",
    "X2 = np.array(DF_nlp2.FV.to_list())\n",
    "\n",
    "#Salida: Decision - 3 categorias\n",
    "Y2 = np.array(DF_nlp2.Decisión.to_list())"
   ]
  },
  {
   "cell_type": "code",
   "execution_count": 31,
   "metadata": {},
   "outputs": [
    {
     "data": {
      "text/plain": [
       "((243, 100), (243,))"
      ]
     },
     "execution_count": 31,
     "metadata": {},
     "output_type": "execute_result"
    }
   ],
   "source": [
    "X2.shape,Y2.shape"
   ]
  },
  {
   "cell_type": "code",
   "execution_count": 32,
   "metadata": {},
   "outputs": [],
   "source": [
    "X2_train, X2_test, y2_train, y2_test = train_test_split(X2,\n",
    "                                                    Y2,\n",
    "                                                    test_size=0.2,\n",
    "                                                   random_state=10)"
   ]
  },
  {
   "cell_type": "code",
   "execution_count": 33,
   "metadata": {},
   "outputs": [
    {
     "data": {
      "text/plain": [
       "((194, 100), (49, 100), (194,), (49,))"
      ]
     },
     "execution_count": 33,
     "metadata": {},
     "output_type": "execute_result"
    }
   ],
   "source": [
    "X2_train.shape,X2_test.shape,y2_train.shape,y2_test.shape"
   ]
  },
  {
   "cell_type": "code",
   "execution_count": null,
   "metadata": {},
   "outputs": [],
   "source": []
  },
  {
   "cell_type": "markdown",
   "metadata": {},
   "source": [
    "### 4.1. SVM"
   ]
  },
  {
   "cell_type": "code",
   "execution_count": 34,
   "metadata": {},
   "outputs": [],
   "source": [
    "from sklearn import svm"
   ]
  },
  {
   "cell_type": "code",
   "execution_count": 35,
   "metadata": {
    "scrolled": true
   },
   "outputs": [
    {
     "data": {
      "text/plain": [
       "SVC()"
      ]
     },
     "execution_count": 35,
     "metadata": {},
     "output_type": "execute_result"
    }
   ],
   "source": [
    "clasificador1 = svm.SVC(kernel='rbf')\n",
    "clasificador1.fit(X1_train,y1_train)"
   ]
  },
  {
   "cell_type": "code",
   "execution_count": 36,
   "metadata": {},
   "outputs": [],
   "source": [
    "Y1_pred = clasificador1.predict(X1_test)"
   ]
  },
  {
   "cell_type": "code",
   "execution_count": 37,
   "metadata": {},
   "outputs": [
    {
     "data": {
      "text/plain": [
       "(49,)"
      ]
     },
     "execution_count": 37,
     "metadata": {},
     "output_type": "execute_result"
    }
   ],
   "source": [
    "Y1_pred.shape"
   ]
  },
  {
   "cell_type": "code",
   "execution_count": 38,
   "metadata": {},
   "outputs": [],
   "source": [
    "from sklearn.metrics import accuracy_score,classification_report"
   ]
  },
  {
   "cell_type": "code",
   "execution_count": 39,
   "metadata": {},
   "outputs": [
    {
     "data": {
      "text/plain": [
       "0.7755102040816326"
      ]
     },
     "execution_count": 39,
     "metadata": {},
     "output_type": "execute_result"
    }
   ],
   "source": [
    "accuracy_score(y1_test,Y1_pred)"
   ]
  },
  {
   "cell_type": "code",
   "execution_count": 40,
   "metadata": {},
   "outputs": [
    {
     "name": "stdout",
     "output_type": "stream",
     "text": [
      "              precision    recall  f1-score   support\n",
      "\n",
      "           0       0.82      0.64      0.72        22\n",
      "           1       0.75      0.89      0.81        27\n",
      "\n",
      "    accuracy                           0.78        49\n",
      "   macro avg       0.79      0.76      0.77        49\n",
      "weighted avg       0.78      0.78      0.77        49\n",
      "\n"
     ]
    }
   ],
   "source": [
    "print(classification_report(y1_test,Y1_pred))"
   ]
  },
  {
   "cell_type": "code",
   "execution_count": null,
   "metadata": {},
   "outputs": [],
   "source": []
  },
  {
   "cell_type": "code",
   "execution_count": 41,
   "metadata": {
    "scrolled": true
   },
   "outputs": [
    {
     "data": {
      "text/plain": [
       "SVC()"
      ]
     },
     "execution_count": 41,
     "metadata": {},
     "output_type": "execute_result"
    }
   ],
   "source": [
    "clasificador2 = svm.SVC(kernel='rbf')\n",
    "clasificador2.fit(X2_train,y2_train)"
   ]
  },
  {
   "cell_type": "code",
   "execution_count": 42,
   "metadata": {},
   "outputs": [],
   "source": [
    "Y2_pred = clasificador2.predict(X2_test)"
   ]
  },
  {
   "cell_type": "code",
   "execution_count": 43,
   "metadata": {},
   "outputs": [
    {
     "data": {
      "text/plain": [
       "(49,)"
      ]
     },
     "execution_count": 43,
     "metadata": {},
     "output_type": "execute_result"
    }
   ],
   "source": [
    "Y2_pred.shape"
   ]
  },
  {
   "cell_type": "code",
   "execution_count": 44,
   "metadata": {},
   "outputs": [],
   "source": [
    "from sklearn.metrics import accuracy_score,classification_report"
   ]
  },
  {
   "cell_type": "code",
   "execution_count": 45,
   "metadata": {},
   "outputs": [
    {
     "data": {
      "text/plain": [
       "0.7959183673469388"
      ]
     },
     "execution_count": 45,
     "metadata": {},
     "output_type": "execute_result"
    }
   ],
   "source": [
    "accuracy_score(y2_test,Y2_pred)"
   ]
  },
  {
   "cell_type": "code",
   "execution_count": 46,
   "metadata": {},
   "outputs": [
    {
     "name": "stdout",
     "output_type": "stream",
     "text": [
      "              precision    recall  f1-score   support\n",
      "\n",
      "           0       0.75      0.67      0.71        18\n",
      "           1       0.82      0.87      0.84        31\n",
      "\n",
      "    accuracy                           0.80        49\n",
      "   macro avg       0.78      0.77      0.77        49\n",
      "weighted avg       0.79      0.80      0.79        49\n",
      "\n"
     ]
    }
   ],
   "source": [
    "print(classification_report(y2_test,Y2_pred))"
   ]
  },
  {
   "cell_type": "code",
   "execution_count": null,
   "metadata": {},
   "outputs": [],
   "source": []
  },
  {
   "cell_type": "markdown",
   "metadata": {},
   "source": [
    "### 4.2 MLP"
   ]
  },
  {
   "cell_type": "code",
   "execution_count": 47,
   "metadata": {},
   "outputs": [],
   "source": [
    "import tensorflow as tf\n",
    "from keras import layers\n",
    "import keras"
   ]
  },
  {
   "cell_type": "code",
   "execution_count": 48,
   "metadata": {},
   "outputs": [],
   "source": [
    "### MLP\n",
    "\n",
    "modeloMLP1 = tf.keras.Sequential()\n",
    "\n",
    "#MLP 3 capas ocultas\n",
    "modeloMLP1.add(layers.Dense(10,activation='relu'))\n",
    "\n",
    "#salida\n",
    "modeloMLP1.add(layers.Dense(units=1, activation='sigmoid'))"
   ]
  },
  {
   "cell_type": "code",
   "execution_count": 49,
   "metadata": {},
   "outputs": [],
   "source": [
    "modeloMLP1.compile(loss='binary_crossentropy',\n",
    "              optimizer='adam', metrics=['accuracy'])"
   ]
  },
  {
   "cell_type": "code",
   "execution_count": 50,
   "metadata": {
    "scrolled": true
   },
   "outputs": [
    {
     "name": "stdout",
     "output_type": "stream",
     "text": [
      "Epoch 1/100\n",
      "7/7 [==============================] - 0s 770us/step - loss: 0.7052 - accuracy: 0.4745\n",
      "Epoch 2/100\n",
      "7/7 [==============================] - 0s 698us/step - loss: 0.6943 - accuracy: 0.5408\n",
      "Epoch 3/100\n",
      "7/7 [==============================] - 0s 703us/step - loss: 0.6869 - accuracy: 0.5714\n",
      "Epoch 4/100\n",
      "7/7 [==============================] - 0s 700us/step - loss: 0.6814 - accuracy: 0.6429\n",
      "Epoch 5/100\n",
      "7/7 [==============================] - 0s 785us/step - loss: 0.6761 - accuracy: 0.6429\n",
      "Epoch 6/100\n",
      "7/7 [==============================] - 0s 999us/step - loss: 0.6707 - accuracy: 0.6480\n",
      "Epoch 7/100\n",
      "7/7 [==============================] - 0s 715us/step - loss: 0.6653 - accuracy: 0.6480\n",
      "Epoch 8/100\n",
      "7/7 [==============================] - 0s 658us/step - loss: 0.6603 - accuracy: 0.6480\n",
      "Epoch 9/100\n",
      "7/7 [==============================] - 0s 1ms/step - loss: 0.6554 - accuracy: 0.6735\n",
      "Epoch 10/100\n",
      "7/7 [==============================] - 0s 1ms/step - loss: 0.6508 - accuracy: 0.6684\n",
      "Epoch 11/100\n",
      "7/7 [==============================] - 0s 1ms/step - loss: 0.6462 - accuracy: 0.6582\n",
      "Epoch 12/100\n",
      "7/7 [==============================] - 0s 994us/step - loss: 0.6417 - accuracy: 0.6684\n",
      "Epoch 13/100\n",
      "7/7 [==============================] - 0s 739us/step - loss: 0.6375 - accuracy: 0.6837\n",
      "Epoch 14/100\n",
      "7/7 [==============================] - 0s 845us/step - loss: 0.6332 - accuracy: 0.6888\n",
      "Epoch 15/100\n",
      "7/7 [==============================] - 0s 727us/step - loss: 0.6287 - accuracy: 0.6990\n",
      "Epoch 16/100\n",
      "7/7 [==============================] - 0s 1ms/step - loss: 0.6238 - accuracy: 0.6990\n",
      "Epoch 17/100\n",
      "7/7 [==============================] - 0s 1ms/step - loss: 0.6190 - accuracy: 0.7041\n",
      "Epoch 18/100\n",
      "7/7 [==============================] - 0s 832us/step - loss: 0.6141 - accuracy: 0.7041\n",
      "Epoch 19/100\n",
      "7/7 [==============================] - 0s 937us/step - loss: 0.6094 - accuracy: 0.7143\n",
      "Epoch 20/100\n",
      "7/7 [==============================] - 0s 889us/step - loss: 0.6043 - accuracy: 0.7194\n",
      "Epoch 21/100\n",
      "7/7 [==============================] - 0s 984us/step - loss: 0.5996 - accuracy: 0.7245\n",
      "Epoch 22/100\n",
      "7/7 [==============================] - 0s 807us/step - loss: 0.5946 - accuracy: 0.7347\n",
      "Epoch 23/100\n",
      "7/7 [==============================] - 0s 888us/step - loss: 0.5895 - accuracy: 0.7347\n",
      "Epoch 24/100\n",
      "7/7 [==============================] - 0s 848us/step - loss: 0.5841 - accuracy: 0.7347\n",
      "Epoch 25/100\n",
      "7/7 [==============================] - 0s 850us/step - loss: 0.5785 - accuracy: 0.7500\n",
      "Epoch 26/100\n",
      "7/7 [==============================] - 0s 831us/step - loss: 0.5731 - accuracy: 0.7551\n",
      "Epoch 27/100\n",
      "7/7 [==============================] - 0s 1ms/step - loss: 0.5691 - accuracy: 0.7500\n",
      "Epoch 28/100\n",
      "7/7 [==============================] - 0s 948us/step - loss: 0.5641 - accuracy: 0.7449\n",
      "Epoch 29/100\n",
      "7/7 [==============================] - 0s 803us/step - loss: 0.5611 - accuracy: 0.7347\n",
      "Epoch 30/100\n",
      "7/7 [==============================] - 0s 959us/step - loss: 0.5545 - accuracy: 0.7551\n",
      "Epoch 31/100\n",
      "7/7 [==============================] - 0s 806us/step - loss: 0.5492 - accuracy: 0.7755\n",
      "Epoch 32/100\n",
      "7/7 [==============================] - 0s 900us/step - loss: 0.5438 - accuracy: 0.7908\n",
      "Epoch 33/100\n",
      "7/7 [==============================] - 0s 886us/step - loss: 0.5387 - accuracy: 0.7959\n",
      "Epoch 34/100\n",
      "7/7 [==============================] - 0s 1ms/step - loss: 0.5340 - accuracy: 0.8010\n",
      "Epoch 35/100\n",
      "7/7 [==============================] - 0s 896us/step - loss: 0.5293 - accuracy: 0.7959\n",
      "Epoch 36/100\n",
      "7/7 [==============================] - 0s 1ms/step - loss: 0.5255 - accuracy: 0.7959\n",
      "Epoch 37/100\n",
      "7/7 [==============================] - 0s 786us/step - loss: 0.5208 - accuracy: 0.7959\n",
      "Epoch 38/100\n",
      "7/7 [==============================] - 0s 1ms/step - loss: 0.5162 - accuracy: 0.7959\n",
      "Epoch 39/100\n",
      "7/7 [==============================] - 0s 1ms/step - loss: 0.5118 - accuracy: 0.7959\n",
      "Epoch 40/100\n",
      "7/7 [==============================] - 0s 889us/step - loss: 0.5076 - accuracy: 0.7959\n",
      "Epoch 41/100\n",
      "7/7 [==============================] - 0s 930us/step - loss: 0.5037 - accuracy: 0.8010\n",
      "Epoch 42/100\n",
      "7/7 [==============================] - 0s 844us/step - loss: 0.5003 - accuracy: 0.8061\n",
      "Epoch 43/100\n",
      "7/7 [==============================] - 0s 919us/step - loss: 0.4969 - accuracy: 0.8061\n",
      "Epoch 44/100\n",
      "7/7 [==============================] - 0s 929us/step - loss: 0.4926 - accuracy: 0.8010\n",
      "Epoch 45/100\n",
      "7/7 [==============================] - 0s 917us/step - loss: 0.4892 - accuracy: 0.8010\n",
      "Epoch 46/100\n",
      "7/7 [==============================] - 0s 925us/step - loss: 0.4848 - accuracy: 0.8061\n",
      "Epoch 47/100\n",
      "7/7 [==============================] - 0s 927us/step - loss: 0.4817 - accuracy: 0.7959\n",
      "Epoch 48/100\n",
      "7/7 [==============================] - 0s 997us/step - loss: 0.4774 - accuracy: 0.8112\n",
      "Epoch 49/100\n",
      "7/7 [==============================] - 0s 814us/step - loss: 0.4739 - accuracy: 0.8163\n",
      "Epoch 50/100\n",
      "7/7 [==============================] - 0s 838us/step - loss: 0.4710 - accuracy: 0.8112\n",
      "Epoch 51/100\n",
      "7/7 [==============================] - 0s 888us/step - loss: 0.4684 - accuracy: 0.8214\n",
      "Epoch 52/100\n",
      "7/7 [==============================] - 0s 1ms/step - loss: 0.4644 - accuracy: 0.8214\n",
      "Epoch 53/100\n",
      "7/7 [==============================] - 0s 1ms/step - loss: 0.4615 - accuracy: 0.8214\n",
      "Epoch 54/100\n",
      "7/7 [==============================] - 0s 1ms/step - loss: 0.4582 - accuracy: 0.8214\n",
      "Epoch 55/100\n",
      "7/7 [==============================] - 0s 945us/step - loss: 0.4544 - accuracy: 0.8214\n",
      "Epoch 56/100\n",
      "7/7 [==============================] - 0s 895us/step - loss: 0.4510 - accuracy: 0.8265\n",
      "Epoch 57/100\n",
      "7/7 [==============================] - 0s 842us/step - loss: 0.4481 - accuracy: 0.8316\n",
      "Epoch 58/100\n",
      "7/7 [==============================] - 0s 867us/step - loss: 0.4447 - accuracy: 0.8367\n",
      "Epoch 59/100\n",
      "7/7 [==============================] - 0s 772us/step - loss: 0.4416 - accuracy: 0.8418\n",
      "Epoch 60/100\n",
      "7/7 [==============================] - 0s 711us/step - loss: 0.4383 - accuracy: 0.8367\n",
      "Epoch 61/100\n",
      "7/7 [==============================] - 0s 1ms/step - loss: 0.4352 - accuracy: 0.8367\n",
      "Epoch 62/100\n",
      "7/7 [==============================] - 0s 946us/step - loss: 0.4326 - accuracy: 0.8316\n",
      "Epoch 63/100\n",
      "7/7 [==============================] - 0s 864us/step - loss: 0.4301 - accuracy: 0.8163\n",
      "Epoch 64/100\n",
      "7/7 [==============================] - 0s 750us/step - loss: 0.4276 - accuracy: 0.8214\n",
      "Epoch 65/100\n",
      "7/7 [==============================] - 0s 924us/step - loss: 0.4244 - accuracy: 0.8214\n",
      "Epoch 66/100\n",
      "7/7 [==============================] - 0s 744us/step - loss: 0.4206 - accuracy: 0.8367\n",
      "Epoch 67/100\n",
      "7/7 [==============================] - 0s 1ms/step - loss: 0.4183 - accuracy: 0.8367\n",
      "Epoch 68/100\n",
      "7/7 [==============================] - 0s 991us/step - loss: 0.4151 - accuracy: 0.8367\n",
      "Epoch 69/100\n",
      "7/7 [==============================] - 0s 770us/step - loss: 0.4125 - accuracy: 0.8418\n",
      "Epoch 70/100\n",
      "7/7 [==============================] - 0s 947us/step - loss: 0.4106 - accuracy: 0.8316\n",
      "Epoch 71/100\n",
      "7/7 [==============================] - 0s 813us/step - loss: 0.4084 - accuracy: 0.8316\n",
      "Epoch 72/100\n",
      "7/7 [==============================] - 0s 818us/step - loss: 0.4041 - accuracy: 0.8469\n",
      "Epoch 73/100\n",
      "7/7 [==============================] - 0s 994us/step - loss: 0.4018 - accuracy: 0.8520\n",
      "Epoch 74/100\n",
      "7/7 [==============================] - 0s 1ms/step - loss: 0.4010 - accuracy: 0.8571\n",
      "Epoch 75/100\n",
      "7/7 [==============================] - 0s 952us/step - loss: 0.3989 - accuracy: 0.8520\n",
      "Epoch 76/100\n",
      "7/7 [==============================] - 0s 753us/step - loss: 0.3959 - accuracy: 0.8571\n",
      "Epoch 77/100\n",
      "7/7 [==============================] - 0s 912us/step - loss: 0.3930 - accuracy: 0.8571\n",
      "Epoch 78/100\n",
      "7/7 [==============================] - 0s 2ms/step - loss: 0.3911 - accuracy: 0.8418\n",
      "Epoch 79/100\n",
      "7/7 [==============================] - 0s 799us/step - loss: 0.3891 - accuracy: 0.8520\n",
      "Epoch 80/100\n",
      "7/7 [==============================] - 0s 945us/step - loss: 0.3866 - accuracy: 0.8520\n",
      "Epoch 81/100\n",
      "7/7 [==============================] - 0s 713us/step - loss: 0.3840 - accuracy: 0.8469\n",
      "Epoch 82/100\n",
      "7/7 [==============================] - 0s 1ms/step - loss: 0.3831 - accuracy: 0.8571\n",
      "Epoch 83/100\n"
     ]
    },
    {
     "name": "stdout",
     "output_type": "stream",
     "text": [
      "7/7 [==============================] - 0s 914us/step - loss: 0.3789 - accuracy: 0.8571\n",
      "Epoch 84/100\n",
      "7/7 [==============================] - 0s 1ms/step - loss: 0.3768 - accuracy: 0.8520\n",
      "Epoch 85/100\n",
      "7/7 [==============================] - 0s 809us/step - loss: 0.3749 - accuracy: 0.8520\n",
      "Epoch 86/100\n",
      "7/7 [==============================] - 0s 849us/step - loss: 0.3729 - accuracy: 0.8571\n",
      "Epoch 87/100\n",
      "7/7 [==============================] - 0s 856us/step - loss: 0.3707 - accuracy: 0.8571\n",
      "Epoch 88/100\n",
      "7/7 [==============================] - 0s 985us/step - loss: 0.3688 - accuracy: 0.8520\n",
      "Epoch 89/100\n",
      "7/7 [==============================] - 0s 933us/step - loss: 0.3670 - accuracy: 0.8622\n",
      "Epoch 90/100\n",
      "7/7 [==============================] - 0s 683us/step - loss: 0.3649 - accuracy: 0.8622\n",
      "Epoch 91/100\n",
      "7/7 [==============================] - 0s 1ms/step - loss: 0.3626 - accuracy: 0.8622\n",
      "Epoch 92/100\n",
      "7/7 [==============================] - 0s 803us/step - loss: 0.3606 - accuracy: 0.8622\n",
      "Epoch 93/100\n",
      "7/7 [==============================] - 0s 1ms/step - loss: 0.3590 - accuracy: 0.8622\n",
      "Epoch 94/100\n",
      "7/7 [==============================] - 0s 697us/step - loss: 0.3569 - accuracy: 0.8622\n",
      "Epoch 95/100\n",
      "7/7 [==============================] - 0s 855us/step - loss: 0.3555 - accuracy: 0.8571\n",
      "Epoch 96/100\n",
      "7/7 [==============================] - 0s 766us/step - loss: 0.3538 - accuracy: 0.8622\n",
      "Epoch 97/100\n",
      "7/7 [==============================] - 0s 957us/step - loss: 0.3513 - accuracy: 0.8673\n",
      "Epoch 98/100\n",
      "7/7 [==============================] - 0s 691us/step - loss: 0.3494 - accuracy: 0.8673\n",
      "Epoch 99/100\n",
      "7/7 [==============================] - 0s 992us/step - loss: 0.3477 - accuracy: 0.8673\n",
      "Epoch 100/100\n",
      "7/7 [==============================] - 0s 740us/step - loss: 0.3458 - accuracy: 0.8673\n"
     ]
    },
    {
     "data": {
      "text/plain": [
       "<tensorflow.python.keras.callbacks.History at 0x7fb298ea20a0>"
      ]
     },
     "execution_count": 50,
     "metadata": {},
     "output_type": "execute_result"
    }
   ],
   "source": [
    "modeloMLP1.fit(X1_train, y1_train,epochs=100)"
   ]
  },
  {
   "cell_type": "code",
   "execution_count": 51,
   "metadata": {},
   "outputs": [],
   "source": [
    "# hacer clasification report"
   ]
  },
  {
   "cell_type": "code",
   "execution_count": 52,
   "metadata": {},
   "outputs": [
    {
     "name": "stdout",
     "output_type": "stream",
     "text": [
      "2/2 [==============================] - 0s 782us/step - loss: 0.5935 - accuracy: 0.7143\n"
     ]
    }
   ],
   "source": [
    "Y1_pred_MLP_eval = modeloMLP1.evaluate(X1_test,y1_test) #:p"
   ]
  },
  {
   "cell_type": "code",
   "execution_count": 53,
   "metadata": {},
   "outputs": [],
   "source": [
    "Y1_pred_MLP = modeloMLP1.predict(X1_test)"
   ]
  },
  {
   "cell_type": "code",
   "execution_count": null,
   "metadata": {},
   "outputs": [],
   "source": []
  },
  {
   "cell_type": "code",
   "execution_count": 54,
   "metadata": {},
   "outputs": [],
   "source": [
    "### MLP 2 PARA TODO\n",
    "\n",
    "modeloMLP2 = tf.keras.Sequential()\n",
    "\n",
    "#MLP 3 capas ocultas\n",
    "modeloMLP2.add(layers.Dense(7,activation='relu'))\n",
    "\n",
    "#salida\n",
    "modeloMLP2.add(layers.Dense(units=1, activation='sigmoid'))"
   ]
  },
  {
   "cell_type": "code",
   "execution_count": 55,
   "metadata": {},
   "outputs": [],
   "source": [
    "modeloMLP2.compile(loss='binary_crossentropy',\n",
    "              optimizer='adam', metrics=['accuracy'])"
   ]
  },
  {
   "cell_type": "code",
   "execution_count": 61,
   "metadata": {
    "scrolled": true
   },
   "outputs": [
    {
     "name": "stdout",
     "output_type": "stream",
     "text": [
      "Epoch 1/100\n",
      "7/7 [==============================] - 0s 749us/step - loss: 0.4451 - accuracy: 0.8299\n",
      "Epoch 2/100\n",
      "7/7 [==============================] - 0s 777us/step - loss: 0.4434 - accuracy: 0.8247\n",
      "Epoch 3/100\n",
      "7/7 [==============================] - 0s 700us/step - loss: 0.4422 - accuracy: 0.8247\n",
      "Epoch 4/100\n",
      "7/7 [==============================] - 0s 729us/step - loss: 0.4405 - accuracy: 0.8351\n",
      "Epoch 5/100\n",
      "7/7 [==============================] - 0s 715us/step - loss: 0.4385 - accuracy: 0.8402\n",
      "Epoch 6/100\n",
      "7/7 [==============================] - 0s 707us/step - loss: 0.4376 - accuracy: 0.8402\n",
      "Epoch 7/100\n",
      "7/7 [==============================] - 0s 703us/step - loss: 0.4359 - accuracy: 0.8402\n",
      "Epoch 8/100\n",
      "7/7 [==============================] - 0s 667us/step - loss: 0.4348 - accuracy: 0.8454\n",
      "Epoch 9/100\n",
      "7/7 [==============================] - 0s 1ms/step - loss: 0.4333 - accuracy: 0.8454\n",
      "Epoch 10/100\n",
      "7/7 [==============================] - 0s 761us/step - loss: 0.4321 - accuracy: 0.8505\n",
      "Epoch 11/100\n",
      "7/7 [==============================] - 0s 1ms/step - loss: 0.4306 - accuracy: 0.8505\n",
      "Epoch 12/100\n",
      "7/7 [==============================] - 0s 1ms/step - loss: 0.4290 - accuracy: 0.8505\n",
      "Epoch 13/100\n",
      "7/7 [==============================] - 0s 982us/step - loss: 0.4279 - accuracy: 0.8505\n",
      "Epoch 14/100\n",
      "7/7 [==============================] - 0s 1ms/step - loss: 0.4266 - accuracy: 0.8505\n",
      "Epoch 15/100\n",
      "7/7 [==============================] - 0s 1ms/step - loss: 0.4251 - accuracy: 0.8505\n",
      "Epoch 16/100\n",
      "7/7 [==============================] - 0s 716us/step - loss: 0.4237 - accuracy: 0.8505\n",
      "Epoch 17/100\n",
      "7/7 [==============================] - 0s 1ms/step - loss: 0.4225 - accuracy: 0.8505\n",
      "Epoch 18/100\n",
      "7/7 [==============================] - 0s 966us/step - loss: 0.4214 - accuracy: 0.8454\n",
      "Epoch 19/100\n",
      "7/7 [==============================] - 0s 1ms/step - loss: 0.4201 - accuracy: 0.8454\n",
      "Epoch 20/100\n",
      "7/7 [==============================] - 0s 840us/step - loss: 0.4182 - accuracy: 0.8505\n",
      "Epoch 21/100\n",
      "7/7 [==============================] - 0s 927us/step - loss: 0.4168 - accuracy: 0.8505\n",
      "Epoch 22/100\n",
      "7/7 [==============================] - 0s 901us/step - loss: 0.4157 - accuracy: 0.8505\n",
      "Epoch 23/100\n",
      "7/7 [==============================] - 0s 1ms/step - loss: 0.4144 - accuracy: 0.8505\n",
      "Epoch 24/100\n",
      "7/7 [==============================] - 0s 1ms/step - loss: 0.4135 - accuracy: 0.8454\n",
      "Epoch 25/100\n",
      "7/7 [==============================] - 0s 997us/step - loss: 0.4147 - accuracy: 0.8402\n",
      "Epoch 26/100\n",
      "7/7 [==============================] - 0s 892us/step - loss: 0.4149 - accuracy: 0.8505\n",
      "Epoch 27/100\n",
      "7/7 [==============================] - 0s 963us/step - loss: 0.4119 - accuracy: 0.8351\n",
      "Epoch 28/100\n",
      "7/7 [==============================] - 0s 944us/step - loss: 0.4093 - accuracy: 0.8454\n",
      "Epoch 29/100\n",
      "7/7 [==============================] - 0s 995us/step - loss: 0.4066 - accuracy: 0.8505\n",
      "Epoch 30/100\n",
      "7/7 [==============================] - 0s 888us/step - loss: 0.4058 - accuracy: 0.8505\n",
      "Epoch 31/100\n",
      "7/7 [==============================] - 0s 1ms/step - loss: 0.4041 - accuracy: 0.8505\n",
      "Epoch 32/100\n",
      "7/7 [==============================] - 0s 937us/step - loss: 0.4035 - accuracy: 0.8454\n",
      "Epoch 33/100\n",
      "7/7 [==============================] - 0s 967us/step - loss: 0.4029 - accuracy: 0.8505\n",
      "Epoch 34/100\n",
      "7/7 [==============================] - 0s 1ms/step - loss: 0.4021 - accuracy: 0.8402\n",
      "Epoch 35/100\n",
      "7/7 [==============================] - 0s 861us/step - loss: 0.3997 - accuracy: 0.8505\n",
      "Epoch 36/100\n",
      "7/7 [==============================] - 0s 920us/step - loss: 0.3978 - accuracy: 0.8454\n",
      "Epoch 37/100\n",
      "7/7 [==============================] - 0s 818us/step - loss: 0.3967 - accuracy: 0.8505\n",
      "Epoch 38/100\n",
      "7/7 [==============================] - 0s 1ms/step - loss: 0.3957 - accuracy: 0.8505\n",
      "Epoch 39/100\n",
      "7/7 [==============================] - 0s 1ms/step - loss: 0.3948 - accuracy: 0.8505\n",
      "Epoch 40/100\n",
      "7/7 [==============================] - 0s 993us/step - loss: 0.3932 - accuracy: 0.8505\n",
      "Epoch 41/100\n",
      "7/7 [==============================] - 0s 977us/step - loss: 0.3917 - accuracy: 0.8505\n",
      "Epoch 42/100\n",
      "7/7 [==============================] - 0s 889us/step - loss: 0.3905 - accuracy: 0.8505\n",
      "Epoch 43/100\n",
      "7/7 [==============================] - 0s 949us/step - loss: 0.3894 - accuracy: 0.8505\n",
      "Epoch 44/100\n",
      "7/7 [==============================] - 0s 902us/step - loss: 0.3877 - accuracy: 0.8505\n",
      "Epoch 45/100\n",
      "7/7 [==============================] - 0s 851us/step - loss: 0.3868 - accuracy: 0.8557\n",
      "Epoch 46/100\n",
      "7/7 [==============================] - 0s 824us/step - loss: 0.3853 - accuracy: 0.8557\n",
      "Epoch 47/100\n",
      "7/7 [==============================] - 0s 884us/step - loss: 0.3845 - accuracy: 0.8505\n",
      "Epoch 48/100\n",
      "7/7 [==============================] - 0s 916us/step - loss: 0.3835 - accuracy: 0.8505\n",
      "Epoch 49/100\n",
      "7/7 [==============================] - 0s 779us/step - loss: 0.3822 - accuracy: 0.8557\n",
      "Epoch 50/100\n",
      "7/7 [==============================] - 0s 934us/step - loss: 0.3809 - accuracy: 0.8608\n",
      "Epoch 51/100\n",
      "7/7 [==============================] - 0s 704us/step - loss: 0.3796 - accuracy: 0.8557\n",
      "Epoch 52/100\n",
      "7/7 [==============================] - 0s 812us/step - loss: 0.3782 - accuracy: 0.8557\n",
      "Epoch 53/100\n",
      "7/7 [==============================] - 0s 724us/step - loss: 0.3778 - accuracy: 0.8557\n",
      "Epoch 54/100\n",
      "7/7 [==============================] - 0s 1ms/step - loss: 0.3776 - accuracy: 0.8557\n",
      "Epoch 55/100\n",
      "7/7 [==============================] - 0s 915us/step - loss: 0.3774 - accuracy: 0.8505\n",
      "Epoch 56/100\n",
      "7/7 [==============================] - 0s 1ms/step - loss: 0.3760 - accuracy: 0.8505\n",
      "Epoch 57/100\n",
      "7/7 [==============================] - 0s 908us/step - loss: 0.3740 - accuracy: 0.8608\n",
      "Epoch 58/100\n",
      "7/7 [==============================] - 0s 978us/step - loss: 0.3710 - accuracy: 0.8660\n",
      "Epoch 59/100\n",
      "7/7 [==============================] - 0s 984us/step - loss: 0.3721 - accuracy: 0.8660\n",
      "Epoch 60/100\n",
      "7/7 [==============================] - 0s 957us/step - loss: 0.3707 - accuracy: 0.8608\n",
      "Epoch 61/100\n",
      "7/7 [==============================] - 0s 978us/step - loss: 0.3692 - accuracy: 0.8608\n",
      "Epoch 62/100\n",
      "7/7 [==============================] - 0s 1ms/step - loss: 0.3675 - accuracy: 0.8608\n",
      "Epoch 63/100\n",
      "7/7 [==============================] - 0s 932us/step - loss: 0.3660 - accuracy: 0.8711\n",
      "Epoch 64/100\n",
      "7/7 [==============================] - 0s 1ms/step - loss: 0.3655 - accuracy: 0.8711\n",
      "Epoch 65/100\n",
      "7/7 [==============================] - 0s 715us/step - loss: 0.3642 - accuracy: 0.8660\n",
      "Epoch 66/100\n",
      "7/7 [==============================] - 0s 1ms/step - loss: 0.3636 - accuracy: 0.8660\n",
      "Epoch 67/100\n",
      "7/7 [==============================] - 0s 751us/step - loss: 0.3625 - accuracy: 0.8711\n",
      "Epoch 68/100\n",
      "7/7 [==============================] - 0s 1ms/step - loss: 0.3602 - accuracy: 0.8711\n",
      "Epoch 69/100\n",
      "7/7 [==============================] - 0s 801us/step - loss: 0.3590 - accuracy: 0.8711\n",
      "Epoch 70/100\n",
      "7/7 [==============================] - 0s 828us/step - loss: 0.3583 - accuracy: 0.8711\n",
      "Epoch 71/100\n",
      "7/7 [==============================] - 0s 762us/step - loss: 0.3570 - accuracy: 0.8711\n",
      "Epoch 72/100\n",
      "7/7 [==============================] - 0s 710us/step - loss: 0.3557 - accuracy: 0.8711\n",
      "Epoch 73/100\n",
      "7/7 [==============================] - 0s 744us/step - loss: 0.3547 - accuracy: 0.8711\n",
      "Epoch 74/100\n",
      "7/7 [==============================] - 0s 807us/step - loss: 0.3534 - accuracy: 0.8711\n",
      "Epoch 75/100\n",
      "7/7 [==============================] - 0s 730us/step - loss: 0.3519 - accuracy: 0.8711\n",
      "Epoch 76/100\n",
      "7/7 [==============================] - 0s 756us/step - loss: 0.3512 - accuracy: 0.8711\n",
      "Epoch 77/100\n",
      "7/7 [==============================] - 0s 694us/step - loss: 0.3501 - accuracy: 0.8711\n",
      "Epoch 78/100\n",
      "7/7 [==============================] - 0s 668us/step - loss: 0.3489 - accuracy: 0.8763\n",
      "Epoch 79/100\n",
      "7/7 [==============================] - 0s 741us/step - loss: 0.3481 - accuracy: 0.8711\n",
      "Epoch 80/100\n",
      "7/7 [==============================] - 0s 826us/step - loss: 0.3475 - accuracy: 0.8711\n",
      "Epoch 81/100\n",
      "7/7 [==============================] - 0s 700us/step - loss: 0.3462 - accuracy: 0.8763\n",
      "Epoch 82/100\n",
      "7/7 [==============================] - 0s 698us/step - loss: 0.3451 - accuracy: 0.8763\n",
      "Epoch 83/100\n"
     ]
    },
    {
     "name": "stdout",
     "output_type": "stream",
     "text": [
      "7/7 [==============================] - 0s 843us/step - loss: 0.3437 - accuracy: 0.8763\n",
      "Epoch 84/100\n",
      "7/7 [==============================] - 0s 675us/step - loss: 0.3427 - accuracy: 0.8763\n",
      "Epoch 85/100\n",
      "7/7 [==============================] - 0s 758us/step - loss: 0.3415 - accuracy: 0.8763\n",
      "Epoch 86/100\n",
      "7/7 [==============================] - 0s 678us/step - loss: 0.3406 - accuracy: 0.8763\n",
      "Epoch 87/100\n",
      "7/7 [==============================] - 0s 747us/step - loss: 0.3394 - accuracy: 0.8763\n",
      "Epoch 88/100\n",
      "7/7 [==============================] - 0s 1ms/step - loss: 0.3389 - accuracy: 0.8763\n",
      "Epoch 89/100\n",
      "7/7 [==============================] - 0s 964us/step - loss: 0.3385 - accuracy: 0.8763\n",
      "Epoch 90/100\n",
      "7/7 [==============================] - 0s 1ms/step - loss: 0.3378 - accuracy: 0.8763\n",
      "Epoch 91/100\n",
      "7/7 [==============================] - 0s 921us/step - loss: 0.3366 - accuracy: 0.8763\n",
      "Epoch 92/100\n",
      "7/7 [==============================] - 0s 1ms/step - loss: 0.3348 - accuracy: 0.8763\n",
      "Epoch 93/100\n",
      "7/7 [==============================] - 0s 761us/step - loss: 0.3341 - accuracy: 0.8711\n",
      "Epoch 94/100\n",
      "7/7 [==============================] - 0s 1ms/step - loss: 0.3334 - accuracy: 0.8711\n",
      "Epoch 95/100\n",
      "7/7 [==============================] - 0s 903us/step - loss: 0.3322 - accuracy: 0.8866\n",
      "Epoch 96/100\n",
      "7/7 [==============================] - 0s 1ms/step - loss: 0.3310 - accuracy: 0.8814\n",
      "Epoch 97/100\n",
      "7/7 [==============================] - 0s 1ms/step - loss: 0.3304 - accuracy: 0.8711\n",
      "Epoch 98/100\n",
      "7/7 [==============================] - 0s 1ms/step - loss: 0.3285 - accuracy: 0.8763\n",
      "Epoch 99/100\n",
      "7/7 [==============================] - 0s 1ms/step - loss: 0.3279 - accuracy: 0.8763\n",
      "Epoch 100/100\n",
      "7/7 [==============================] - 0s 660us/step - loss: 0.3260 - accuracy: 0.8711\n"
     ]
    },
    {
     "data": {
      "text/plain": [
       "<tensorflow.python.keras.callbacks.History at 0x7fb293e357f0>"
      ]
     },
     "execution_count": 61,
     "metadata": {},
     "output_type": "execute_result"
    }
   ],
   "source": [
    "modeloMLP2.fit(X2_train, y2_train,epochs=100)"
   ]
  },
  {
   "cell_type": "code",
   "execution_count": 57,
   "metadata": {},
   "outputs": [],
   "source": [
    "# hacer clasification report"
   ]
  },
  {
   "cell_type": "code",
   "execution_count": 62,
   "metadata": {},
   "outputs": [
    {
     "name": "stdout",
     "output_type": "stream",
     "text": [
      "2/2 [==============================] - 0s 746us/step - loss: 0.6282 - accuracy: 0.6939\n"
     ]
    }
   ],
   "source": [
    "Y2_pred_MLP_eval = modeloMLP2.evaluate(X2_test,y2_test) #:p"
   ]
  },
  {
   "cell_type": "code",
   "execution_count": 59,
   "metadata": {},
   "outputs": [],
   "source": [
    "Y2_pred_MLP = modeloMLP2.predict(X2_test)"
   ]
  },
  {
   "cell_type": "code",
   "execution_count": null,
   "metadata": {},
   "outputs": [],
   "source": []
  }
 ],
 "metadata": {
  "kernelspec": {
   "display_name": "Python 3",
   "language": "python",
   "name": "python3"
  },
  "language_info": {
   "codemirror_mode": {
    "name": "ipython",
    "version": 3
   },
   "file_extension": ".py",
   "mimetype": "text/x-python",
   "name": "python",
   "nbconvert_exporter": "python",
   "pygments_lexer": "ipython3",
   "version": "3.8.0"
  }
 },
 "nbformat": 4,
 "nbformat_minor": 4
}
