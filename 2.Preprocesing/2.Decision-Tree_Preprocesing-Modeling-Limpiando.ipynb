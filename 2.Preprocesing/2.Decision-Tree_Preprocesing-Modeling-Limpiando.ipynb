{
 "cells": [
  {
   "cell_type": "code",
   "execution_count": 1,
   "metadata": {},
   "outputs": [],
   "source": [
    "# Librerias\n",
    "import pandas as pd\n",
    "import numpy as np\n",
    "from pprint import pprint"
   ]
  },
  {
   "cell_type": "code",
   "execution_count": 2,
   "metadata": {},
   "outputs": [],
   "source": [
    "### CONSUMIR EXCEL DE LIMPIEZA ###"
   ]
  },
  {
   "cell_type": "code",
   "execution_count": 3,
   "metadata": {},
   "outputs": [],
   "source": [
    "#funcion para leer data\n",
    "\n",
    "def leerExcel(año):\n",
    "    dataAño = pd.read_excel(\"Data-resoluciones.xlsx\",\n",
    "                             sheet_name=año,\n",
    "                             usecols=[0,1,2],\n",
    "                             header=None)\n",
    "    return dataAño"
   ]
  },
  {
   "cell_type": "code",
   "execution_count": 4,
   "metadata": {},
   "outputs": [],
   "source": [
    "#Concatenando valores de Excel de cada año\n",
    "DataTotal = pd.concat([leerExcel(\"2006\"), leerExcel(\"2007\"), \n",
    "                       leerExcel(\"2008\"), leerExcel(\"2009\"),\n",
    "                       leerExcel(\"2010\"), leerExcel(\"2011\"),\n",
    "                      leerExcel(\"2012\"),leerExcel(\"2013\"),\n",
    "                      leerExcel(\"2014\"),leerExcel(\"2015\")],ignore_index=True)"
   ]
  },
  {
   "cell_type": "code",
   "execution_count": 13,
   "metadata": {},
   "outputs": [],
   "source": [
    "##VERSION 2\n",
    "## Creando un diccionario que convierta a lista las normativas (para luego extraerlas)\n",
    "\n",
    "resoluciones = {}\n",
    "num_res = 0\n",
    "\n",
    "filas = len(DataTotal)\n",
    "variables = [ 'Número de resolución',\n",
    "             'Empresa denunciada',\n",
    "             'Normativa sectorial aplicada','Otras normas','Normativa específica',\n",
    "             'Configuración del Tribunal',\n",
    "             'Decisión']\n",
    "\n",
    "for fila in range(filas):\n",
    "    # Cada resolución será un diccionario dentro del diccionario\n",
    "\n",
    "    # Debe crearse una resolución si es la primera fila o si la última fila revisada fue \"Decisión\"\n",
    "    if fila == 0 or DataTotal.iloc[fila-1,0] == 'Decisión':\n",
    "        num_res += 1\n",
    "        resoluciones[num_res] = {}\n",
    "\n",
    "    # Si en la primera fila hay una variable, creamos una llave en el diccionario de la resolución\n",
    "    if DataTotal.iloc[fila, 0] in variables:\n",
    "        variable = DataTotal.iloc[fila, 0]\n",
    "        if variable in variables:\n",
    "            resoluciones[num_res][variable] = DataTotal.iloc[fila, 1]\n",
    "\n",
    "    if pd.isna(DataTotal.iloc[fila, 0]) and pd.notna( DataTotal.iloc[fila, 1] ):\n",
    "        try:\n",
    "            resoluciones[num_res][variable] += \" \" + str(DataTotal.iloc[fila, 1])\n",
    "        except:\n",
    "            pass\n",
    "\n"
   ]
  },
  {
   "cell_type": "code",
   "execution_count": null,
   "metadata": {},
   "outputs": [],
   "source": [
    "##VERSION 2\n",
    "## Creando un diccionario que convierta a lista las normativas (para luego extraerlas)\n",
    "\n",
    "resoluciones = {}\n",
    "num_res = 0\n",
    "valores=[]\n",
    "\n",
    "filas = len(DataTotal)\n",
    "variables = [ 'Número de resolución',\n",
    "             'Empresa denunciada',\n",
    "             'Normativa sectorial aplicada','Otras normas','Normativa específica',\n",
    "             'Configuración del Tribunal',\n",
    "             'Decisión']\n",
    "\n",
    "for fila in range(filas):\n",
    "    # Cada resolución será un diccionario dentro del diccionario\n",
    "\n",
    "    # Debe crearse una resolución si es la primera fila o si la última fila revisada fue \"Decisión\"\n",
    "    if fila == 0 or DataTotal.iloc[fila-1,0] == 'Decisión':\n",
    "        num_res += 1\n",
    "        resoluciones[num_res] = {}\n",
    "\n",
    "    # Si en la primera fila hay una variable, creamos una llave en el diccionario de la resolución\n",
    "    if DataTotal.iloc[fila, 0] in variables:\n",
    "        variable = DataTotal.iloc[fila, 0]\n",
    "        if variable in variables:\n",
    "            resoluciones[num_res][variable] = DataTotal.iloc[fila, 1]\n",
    "\n",
    "    if pd.isna(DataTotal.iloc[fila, 0]) and pd.notna( DataTotal.iloc[fila, 1] ):\n",
    "        try:\n",
    "            resoluciones[num_res][variable] += \" \" + str(DataTotal.iloc[fila, 1])\n",
    "        except:\n",
    "            pass\n",
    "\n",
    "\n"
   ]
  },
  {
   "cell_type": "code",
   "execution_count": 21,
   "metadata": {},
   "outputs": [],
   "source": [
    "#Trayendo solo las normas para contarlas\n",
    "\n",
    "normativas = ['Normativa sectorial aplicada','Otras normas','Normativa específica']\n",
    "normas = []\n",
    "for resolucion in resoluciones:\n",
    "    for norma in resoluciones[resolucion]:\n",
    "        if norma in normativas:\n",
    "            lista = resoluciones[resolucion][norma]\n",
    "            normas.append(lista)\n",
    "\n",
    "normas = pd.Series(normas)\n"
   ]
  },
  {
   "cell_type": "code",
   "execution_count": 23,
   "metadata": {},
   "outputs": [
    {
     "data": {
      "text/plain": [
       "pandas.core.series.Series"
      ]
     },
     "execution_count": 23,
     "metadata": {},
     "output_type": "execute_result"
    }
   ],
   "source": [
    "type(normas)"
   ]
  },
  {
   "cell_type": "code",
   "execution_count": 24,
   "metadata": {},
   "outputs": [],
   "source": [
    "#contando ocurrencias\n",
    "\n",
    "countNormas = normas.value_counts()"
   ]
  },
  {
   "cell_type": "code",
   "execution_count": 25,
   "metadata": {
    "scrolled": true
   },
   "outputs": [
    {
     "data": {
      "text/html": [
       "<div>\n",
       "<style scoped>\n",
       "    .dataframe tbody tr th:only-of-type {\n",
       "        vertical-align: middle;\n",
       "    }\n",
       "\n",
       "    .dataframe tbody tr th {\n",
       "        vertical-align: top;\n",
       "    }\n",
       "\n",
       "    .dataframe thead th {\n",
       "        text-align: right;\n",
       "    }\n",
       "</style>\n",
       "<table border=\"1\" class=\"dataframe\">\n",
       "  <thead>\n",
       "    <tr style=\"text-align: right;\">\n",
       "      <th></th>\n",
       "      <th>0</th>\n",
       "    </tr>\n",
       "  </thead>\n",
       "  <tbody>\n",
       "    <tr>\n",
       "      <th>DECRETO LEGISLATIVO N° 807 Facultades, normas y organización del INDECOPI</th>\n",
       "      <td>83</td>\n",
       "    </tr>\n",
       "    <tr>\n",
       "      <th>Código de Protección y Defensa del Consumidor</th>\n",
       "      <td>46</td>\n",
       "    </tr>\n",
       "    <tr>\n",
       "      <th>Ley No. 27444 Ley del Procedimiento Administrativo General</th>\n",
       "      <td>39</td>\n",
       "    </tr>\n",
       "    <tr>\n",
       "      <th>Código Procesal Civil</th>\n",
       "      <td>11</td>\n",
       "    </tr>\n",
       "    <tr>\n",
       "      <th>DECRETO LEGISLATIVO N° 807 Facultades, normas y organización del INDECOPI Res. 085-96-TDC</th>\n",
       "      <td>11</td>\n",
       "    </tr>\n",
       "    <tr>\n",
       "      <th>...</th>\n",
       "      <td>...</td>\n",
       "    </tr>\n",
       "    <tr>\n",
       "      <th>DECRETO LEGISLATIVO N° 807 Facultades, normas y organización del INDECOPI D. Supremo No. 009-2004-MTC Reglamento Nacional de Administración de Transporte D. Supremo 017-2009-MTC</th>\n",
       "      <td>1</td>\n",
       "    </tr>\n",
       "    <tr>\n",
       "      <th>DECRETO LEGISLATIVO N° 807 Facultades, normas y organización del INDECOPI D. Leg 1045 Ley Complementaria al Sistema de Protección al Consumidor Ley No. 27444 Ley del Procedimiento Administrativo General</th>\n",
       "      <td>1</td>\n",
       "    </tr>\n",
       "    <tr>\n",
       "      <th>DECRETO LEGISLATIVO N° 807 Facultades, normas y organización del INDECOPI Ley No. 27809 Ley General del Sistema Concursal Ley No. 27444 Ley del Procedimiento Administrativo General</th>\n",
       "      <td>1</td>\n",
       "    </tr>\n",
       "    <tr>\n",
       "      <th>Res. 085-96-TDC Res. 0158-2003/TDC-INDECOPI Ley de Aeronaútica Civil del Perú Pago de costas y costos</th>\n",
       "      <td>1</td>\n",
       "    </tr>\n",
       "    <tr>\n",
       "      <th>Ley No. 27917 Modifica el Texto Unico Ordenado del D. Leg. 716 DECRETO LEGISLATIVO N° 807 Facultades, normas y organización del INDECOPI</th>\n",
       "      <td>1</td>\n",
       "    </tr>\n",
       "  </tbody>\n",
       "</table>\n",
       "<p>135 rows × 1 columns</p>\n",
       "</div>"
      ],
      "text/plain": [
       "                                                     0\n",
       "DECRETO LEGISLATIVO N° 807 Facultades, normas y...  83\n",
       "Código de Protección y Defensa del Consumidor       46\n",
       "Ley No. 27444 Ley del Procedimiento Administrat...  39\n",
       "Código Procesal Civil                               11\n",
       "DECRETO LEGISLATIVO N° 807 Facultades, normas y...  11\n",
       "...                                                 ..\n",
       "DECRETO LEGISLATIVO N° 807 Facultades, normas y...   1\n",
       "DECRETO LEGISLATIVO N° 807 Facultades, normas y...   1\n",
       "DECRETO LEGISLATIVO N° 807 Facultades, normas y...   1\n",
       "Res. 085-96-TDC Res. 0158-2003/TDC-INDECOPI Ley...   1\n",
       "Ley No. 27917 Modifica el Texto Unico Ordenado ...   1\n",
       "\n",
       "[135 rows x 1 columns]"
      ]
     },
     "execution_count": 25,
     "metadata": {},
     "output_type": "execute_result"
    }
   ],
   "source": [
    "#convirtiendo a DF las normas y sus ocurrencias\n",
    "\n",
    "DFNormas = pd.DataFrame(countNormas)\n",
    "DFNormas\n",
    "\n",
    "## 84 normas ##"
   ]
  },
  {
   "cell_type": "code",
   "execution_count": null,
   "metadata": {},
   "outputs": [],
   "source": [
    "#Exportando a csv para validarlo\n",
    "\n",
    "DFNormas.to_csv(\"mp-nomr.csv\")"
   ]
  },
  {
   "cell_type": "code",
   "execution_count": null,
   "metadata": {},
   "outputs": [],
   "source": []
  },
  {
   "cell_type": "code",
   "execution_count": null,
   "metadata": {},
   "outputs": [],
   "source": []
  },
  {
   "cell_type": "code",
   "execution_count": null,
   "metadata": {},
   "outputs": [],
   "source": []
  },
  {
   "cell_type": "code",
   "execution_count": null,
   "metadata": {},
   "outputs": [],
   "source": []
  },
  {
   "cell_type": "code",
   "execution_count": null,
   "metadata": {},
   "outputs": [],
   "source": [
    "## Extrayendo las normativas con el ID de resoluciones y decisiones (esto luego nos permitira hacer Arbol de dec)\n",
    "\n",
    "normativas = ['Número de resolución', 'Normativa específica', 'Normativa sectorial aplicada', 'Otras normas',\n",
    "             \"Decisión\"]\n",
    "\n",
    "dictNormativas = {}\n",
    "for resolucion in resoluciones:\n",
    "    dictNormativas[resolucion] = {}\n",
    "    for variable in resoluciones[resolucion]:\n",
    "        if variable in normativas:\n",
    "            dictNormativas[resolucion][variable] = resoluciones[resolucion][variable]\n",
    "            \n",
    "pprint(dictNormativas)"
   ]
  },
  {
   "cell_type": "code",
   "execution_count": null,
   "metadata": {
    "scrolled": true
   },
   "outputs": [],
   "source": [
    "normas_decision = pd.Series(dictNormativas)"
   ]
  },
  {
   "cell_type": "code",
   "execution_count": null,
   "metadata": {},
   "outputs": [],
   "source": [
    "pprint(normas_decision)"
   ]
  },
  {
   "cell_type": "code",
   "execution_count": null,
   "metadata": {},
   "outputs": [],
   "source": []
  },
  {
   "cell_type": "code",
   "execution_count": null,
   "metadata": {},
   "outputs": [],
   "source": []
  },
  {
   "cell_type": "code",
   "execution_count": null,
   "metadata": {},
   "outputs": [],
   "source": []
  },
  {
   "cell_type": "code",
   "execution_count": null,
   "metadata": {},
   "outputs": [],
   "source": [
    "## Visualizacion"
   ]
  },
  {
   "cell_type": "code",
   "execution_count": null,
   "metadata": {},
   "outputs": [],
   "source": [
    "import plotly.graph_objects as go"
   ]
  },
  {
   "cell_type": "code",
   "execution_count": null,
   "metadata": {},
   "outputs": [],
   "source": [
    "#filtrando el top 10\n",
    "DFPlot = DFNormas[:11][:].sort_values(by=[0],ascending=True)\n",
    "DFPlot"
   ]
  },
  {
   "cell_type": "code",
   "execution_count": null,
   "metadata": {},
   "outputs": [],
   "source": [
    "#realizando ploteo de normas y ocurrencias, no se ve tan bien porq las normas tienen nombres largos \n",
    "# y son muchas (58)\n",
    "\n",
    "\n",
    "my_layout = ({\"title\": \"Normativas más citadas\",\n",
    "                       \"yaxis\": {\"title\":\"Normativas\"},\n",
    "                       \"xaxis\": {\"title\":\"Cantidad de citas\"},\n",
    "                       \"showlegend\": False})\n",
    "\n",
    "\n",
    "\n",
    "fig = go.Figure(go.Bar(\n",
    "            x=DFPlot[0],\n",
    "            y=DFPlot.index,\n",
    "            orientation='h'),layout = my_layout)\n",
    "\n",
    "\n",
    "fig.update_yaxes(automargin=True)\n",
    "\n",
    "fig.show()"
   ]
  },
  {
   "cell_type": "code",
   "execution_count": null,
   "metadata": {},
   "outputs": [],
   "source": []
  },
  {
   "cell_type": "code",
   "execution_count": null,
   "metadata": {},
   "outputs": [],
   "source": [
    "#Arbol"
   ]
  },
  {
   "cell_type": "code",
   "execution_count": null,
   "metadata": {},
   "outputs": [],
   "source": [
    "### ARQUITECTURA: Arbol de decision ####\n",
    "\n",
    "#plot examples: https://mljar.com/blog/visualize-decision-tree/\n",
    "\n",
    "def plotArbolito(X,Y):\n",
    "\n",
    "    def Arbolito(X,Y):\n",
    "        dt = tree.DecisionTreeClassifier(criterion = 'entropy',random_state=46)\n",
    "        \n",
    "        return dt.fit(X, Y)\n",
    "    \n",
    "    arbol = Arbolito(X,Y)\n",
    "    r = export_text(arbol, feature_names=list(X.columns[:]))\n",
    "    print(r)"
   ]
  },
  {
   "cell_type": "code",
   "execution_count": null,
   "metadata": {},
   "outputs": [],
   "source": [
    "##### DATOS ######\n",
    "\n",
    "#Entradas\n",
    "Toda_normativa = pd.read_csv(\"Toda-normativa.csv\",index_col=0,header=1)\n",
    "\n",
    "\n",
    "#Salidas\n",
    "dataResol = pd.read_csv(\"Total-data-resol-1y2Quinquenio.csv\")\n",
    "Y_merge = dataResol[[\"Número de resolución\",\"Decisión\"]]\n",
    "Y_merge = Y_merge.replace({\"Confirmar\": 1, \"Revocar\": 0, \"Otros\": 2})\n",
    "\n",
    "Y = dataResol[[\"Decisión\"]]\n",
    "\n",
    "#  \"Confirmar\": 1, \"Revocar\": 0, \"Otros\": 2\n",
    "Y = Y.replace({\"Confirmar\": 1, \"Revocar\": 0, \"Otros\": 2})"
   ]
  },
  {
   "cell_type": "code",
   "execution_count": null,
   "metadata": {},
   "outputs": [],
   "source": []
  }
 ],
 "metadata": {
  "kernelspec": {
   "display_name": "Python 3",
   "language": "python",
   "name": "python3"
  },
  "language_info": {
   "codemirror_mode": {
    "name": "ipython",
    "version": 3
   },
   "file_extension": ".py",
   "mimetype": "text/x-python",
   "name": "python",
   "nbconvert_exporter": "python",
   "pygments_lexer": "ipython3",
   "version": "3.8.0"
  }
 },
 "nbformat": 4,
 "nbformat_minor": 4
}
